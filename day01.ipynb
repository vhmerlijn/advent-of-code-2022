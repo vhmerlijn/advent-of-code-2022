{
 "cells": [
  {
   "cell_type": "markdown",
   "id": "c8e58882-c658-44db-98ce-ba70ff25c0d5",
   "metadata": {},
   "source": [
    "# --- Day 1: Calorie Counting ---\n"
   ]
  },
  {
   "cell_type": "code",
   "execution_count": 1,
   "id": "5b4160df-09f6-470c-b0a9-c3e2f67ed68d",
   "metadata": {},
   "outputs": [
    {
     "name": "stdout",
     "output_type": "stream",
     "text": [
      "74198\n"
     ]
    }
   ],
   "source": [
    "filename = \"inputs/day1-input.txt\"\n",
    "totals = []\n",
    "with open(filename, \"r\") as infile:\n",
    "    this_total = 0\n",
    "    for line in infile:\n",
    "        if len(line) > 1:\n",
    "            this_total += int(line)\n",
    "        else:\n",
    "            totals.append(this_total)\n",
    "            this_total = 0\n",
    "\n",
    "print(max(totals))"
   ]
  },
  {
   "cell_type": "markdown",
   "id": "73d78cff-792c-44ff-b92f-06d9b80df719",
   "metadata": {},
   "source": [
    "# --- Part Two ---\n"
   ]
  },
  {
   "cell_type": "code",
   "execution_count": 2,
   "id": "b1be5e34-8289-4e3d-affc-4513764a9fa1",
   "metadata": {},
   "outputs": [
    {
     "data": {
      "text/plain": [
       "209914"
      ]
     },
     "execution_count": 2,
     "metadata": {},
     "output_type": "execute_result"
    }
   ],
   "source": [
    "totals.sort()\n",
    "sum(totals[-3:])"
   ]
  }
 ],
 "metadata": {
  "kernelspec": {
   "display_name": "venv39",
   "language": "python",
   "name": "venv39"
  },
  "language_info": {
   "codemirror_mode": {
    "name": "ipython",
    "version": 3
   },
   "file_extension": ".py",
   "mimetype": "text/x-python",
   "name": "python",
   "nbconvert_exporter": "python",
   "pygments_lexer": "ipython3",
   "version": "3.9.13"
  }
 },
 "nbformat": 4,
 "nbformat_minor": 5
}
