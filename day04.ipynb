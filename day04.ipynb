{
 "cells": [
  {
   "cell_type": "markdown",
   "id": "6d8582d1-a17f-4522-9b73-405815d5e395",
   "metadata": {},
   "source": [
    "# --- Day 4: Camp Cleanup ---\n"
   ]
  },
  {
   "cell_type": "code",
   "execution_count": 1,
   "id": "183a16e0-2da3-4266-895a-746c445a967d",
   "metadata": {},
   "outputs": [],
   "source": [
    "# Load and parse input data\n",
    "filename = \"inputs/day4-input.txt\"\n",
    "section_data = list()\n",
    "with open(filename) as infile:\n",
    "    for line in infile:\n",
    "        x = line.strip().split(\",\")\n",
    "        section_data.append([list(map(int, y.split(\"-\"))) for y in x])\n",
    "        "
   ]
  },
  {
   "cell_type": "code",
   "execution_count": 2,
   "id": "1fa23b88-e040-4298-8414-fab15a0d3433",
   "metadata": {},
   "outputs": [
    {
     "name": "stdout",
     "output_type": "stream",
     "text": [
      "567\n"
     ]
    }
   ],
   "source": [
    "def check_if_pair_is_fully_contained(pair_data):\n",
    "\n",
    "    # Determine which of the two ranges is larger\n",
    "    range_1 = pair_data[0][1] - pair_data[0][0]\n",
    "    range_2 = pair_data[1][1] - pair_data[1][0]\n",
    "\n",
    "    if range_1 >= range_2:\n",
    "        index_larger = 0\n",
    "    else:\n",
    "        index_larger = 1\n",
    "\n",
    "    # Check if larger range starts before smaller starts,\n",
    "    # and ends after smaller ends\n",
    "    if (pair_data[index_larger][0] <= pair_data[1 - index_larger][0]) and (\n",
    "        pair_data[index_larger][1] >= pair_data[1 - index_larger][1]\n",
    "    ):\n",
    "        return True\n",
    "    else:\n",
    "        return False\n",
    "\n",
    "\n",
    "count_fully_contained_pairs = 0\n",
    "for pair_data in section_data:\n",
    "    if check_if_pair_is_fully_contained(pair_data):\n",
    "        count_fully_contained_pairs += 1\n",
    "\n",
    "print(count_fully_contained_pairs)\n"
   ]
  },
  {
   "cell_type": "markdown",
   "id": "0ca497d9-fa9b-4ade-b121-3f7422f00626",
   "metadata": {},
   "source": [
    "# --- Part Two ---\n",
    "\n"
   ]
  },
  {
   "cell_type": "code",
   "execution_count": 3,
   "id": "97dd455d-5932-4c58-a527-2084bfb2d0ea",
   "metadata": {},
   "outputs": [
    {
     "name": "stdout",
     "output_type": "stream",
     "text": [
      "907\n"
     ]
    }
   ],
   "source": [
    "def check_if_pair_overlaps(pair_data):\n",
    "\n",
    "    # Determine which of the two ranges is earlier\n",
    "    if pair_data[0][0] <= pair_data[1][0]:\n",
    "        index_earlier = 0\n",
    "    else:\n",
    "        index_earlier = 1\n",
    "\n",
    "    if pair_data[index_earlier][1] >= pair_data[1 - index_earlier][0]:\n",
    "        return True\n",
    "    else:\n",
    "        return False\n",
    "\n",
    "\n",
    "count_overlapping_pairs = 0\n",
    "for pair_data in section_data:\n",
    "    if check_if_pair_overlaps(pair_data):\n",
    "        count_overlapping_pairs += 1\n",
    "\n",
    "print(count_overlapping_pairs)\n"
   ]
  }
 ],
 "metadata": {
  "kernelspec": {
   "display_name": "venv39",
   "language": "python",
   "name": "venv39"
  },
  "language_info": {
   "codemirror_mode": {
    "name": "ipython",
    "version": 3
   },
   "file_extension": ".py",
   "mimetype": "text/x-python",
   "name": "python",
   "nbconvert_exporter": "python",
   "pygments_lexer": "ipython3",
   "version": "3.9.13"
  }
 },
 "nbformat": 4,
 "nbformat_minor": 5
}
