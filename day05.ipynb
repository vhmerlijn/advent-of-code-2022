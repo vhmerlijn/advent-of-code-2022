{
 "cells": [
  {
   "cell_type": "markdown",
   "id": "c8e58882-c658-44db-98ce-ba70ff25c0d5",
   "metadata": {},
   "source": [
    "# --- Day 5: Supply Stacks ---\n",
    "\n"
   ]
  },
  {
   "cell_type": "code",
   "execution_count": 1,
   "id": "e21fcd93-ff54-4e91-92f3-03325feb5596",
   "metadata": {},
   "outputs": [
    {
     "name": "stdout",
     "output_type": "stream",
     "text": [
      "9 stacks\n"
     ]
    },
    {
     "data": {
      "text/plain": [
       "'BWNCQRMDB'"
      ]
     },
     "execution_count": 1,
     "metadata": {},
     "output_type": "execute_result"
    }
   ],
   "source": [
    "import re\n",
    "\n",
    "# Load input data\n",
    "filename = \"inputs/day5-input.txt\"\n",
    "input_stack = []\n",
    "input_moves = []\n",
    "with open(filename) as infile:\n",
    "    for line in infile:\n",
    "        if line.startswith(\"move\"):\n",
    "            input_moves.append(line.strip())\n",
    "        else:\n",
    "            input_stack.append(line)\n",
    "\n",
    "# Process stack input data\n",
    "def process_stack_data(input_stack_data):\n",
    "    # Extract number of stacks\n",
    "    num_stacks = max([int(x) for x in re.findall(r\"\\b\\d+\\b\", input_stack_data[-2])])\n",
    "    print(f\"{num_stacks} stacks\")\n",
    "\n",
    "    # Process stack data\n",
    "    processed_stacks = [[] for i in range(1,num_stacks+1)]\n",
    "    input_stack_data = input_stack_data[:-2]\n",
    "    input_stack_data.reverse()\n",
    "    for stack_line in input_stack_data:\n",
    "        for i in range(0, len(processed_stacks)):\n",
    "            stack_char = stack_line[1 + 4*i]\n",
    "            if stack_char != \" \":\n",
    "                processed_stacks[i].append(stack_char)\n",
    "    \n",
    "    return processed_stacks\n",
    "\n",
    "def run_stack_rearrangement(processed_stack_data, move_data):\n",
    "    for m in move_data:\n",
    "        moves = [int(x) for x in re.findall(r\"\\b\\d+\\b\", m)]\n",
    "        for i in range(1, moves[0]+1):\n",
    "            stack_from = processed_stack_data[moves[1]-1]\n",
    "            processed_stack_data[moves[2]-1] += stack_from[-1:]\n",
    "            processed_stack_data[moves[1]-1] = stack_from[:-1]\n",
    "    return processed_stack_data\n",
    "\n",
    "def get_top_crates(stack_data):\n",
    "    top_crates = \"\"\n",
    "    for i in stack_data:\n",
    "        top_crates += i[-1:][0]\n",
    "    return top_crates\n",
    "    \n",
    "get_top_crates(run_stack_rearrangement(process_stack_data(input_stack), input_moves))"
   ]
  },
  {
   "cell_type": "markdown",
   "id": "a8c638d7-87cf-4fdd-91f6-8c83e1d23ab9",
   "metadata": {},
   "source": [
    "# --- Part Two ---\n",
    "\n"
   ]
  },
  {
   "cell_type": "code",
   "execution_count": 2,
   "id": "d4e72dd4-a87f-4b50-b2f5-123ed93b760f",
   "metadata": {},
   "outputs": [
    {
     "name": "stdout",
     "output_type": "stream",
     "text": [
      "9 stacks\n"
     ]
    },
    {
     "data": {
      "text/plain": [
       "'NHWZCBNBF'"
      ]
     },
     "execution_count": 2,
     "metadata": {},
     "output_type": "execute_result"
    }
   ],
   "source": [
    "def run_stack_rearrangement_part2(processed_stack_data, move_data):\n",
    "    for m in move_data:\n",
    "        moves = [int(x) for x in re.findall(r\"\\b\\d+\\b\", m)]\n",
    "        stack_from = processed_stack_data[moves[1]-1]\n",
    "        processed_stack_data[moves[2]-1] += stack_from[-moves[0]:]\n",
    "        processed_stack_data[moves[1]-1] = stack_from[:-moves[0]]\n",
    "    return processed_stack_data\n",
    "\n",
    "get_top_crates(run_stack_rearrangement_part2(process_stack_data(input_stack), input_moves))"
   ]
  }
 ],
 "metadata": {
  "kernelspec": {
   "display_name": "venv39",
   "language": "python",
   "name": "venv39"
  },
  "language_info": {
   "codemirror_mode": {
    "name": "ipython",
    "version": 3
   },
   "file_extension": ".py",
   "mimetype": "text/x-python",
   "name": "python",
   "nbconvert_exporter": "python",
   "pygments_lexer": "ipython3",
   "version": "3.9.13"
  }
 },
 "nbformat": 4,
 "nbformat_minor": 5
}
