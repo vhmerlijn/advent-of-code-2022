{
 "cells": [
  {
   "cell_type": "markdown",
   "id": "cd29cde2-97b7-45fe-a2c4-33717553fdcf",
   "metadata": {},
   "source": [
    "# --- Day 12: Hill Climbing Algorithm ---\n",
    "\n"
   ]
  },
  {
   "cell_type": "code",
   "execution_count": 205,
   "id": "71a76fbf-1c89-4fde-8565-491183d7649f",
   "metadata": {},
   "outputs": [
    {
     "name": "stdout",
     "output_type": "stream",
     "text": [
      "[[0 1 0 ... 0 0 0]\n",
      " [0 1 0 ... 0 0 0]\n",
      " [0 1 0 ... 0 0 0]\n",
      " ...\n",
      " [0 1 2 ... 0 0 0]\n",
      " [0 1 2 ... 0 0 0]\n",
      " [0 1 2 ... 0 0 0]]\n"
     ]
    }
   ],
   "source": [
    "import numpy as np\n",
    "\n",
    "# Load data\n",
    "filename = \"inputs/day12.txt\"\n",
    "with open(filename, \"r\") as infile:\n",
    "    hill_data = [[ord(x)-ord('a') for x in l.strip()] for l in infile]\n",
    "\n",
    "hill_data = np.matrix(hill_data)\n",
    "print(hill_data)\n",
    "\n",
    "# Start: -14\n",
    "# Destination: -28\n"
   ]
  },
  {
   "cell_type": "code",
   "execution_count": 217,
   "id": "ef781423-e337-4a41-9fbc-18b542e33e91",
   "metadata": {},
   "outputs": [
    {
     "ename": "IndexError",
     "evalue": "only integers, slices (`:`), ellipsis (`...`), numpy.newaxis (`None`) and integer or boolean arrays are valid indices",
     "output_type": "error",
     "traceback": [
      "\u001b[0;31m---------------------------------------------------------------------------\u001b[0m",
      "\u001b[0;31mIndexError\u001b[0m                                Traceback (most recent call last)",
      "Input \u001b[0;32mIn [217]\u001b[0m, in \u001b[0;36m<cell line: 104>\u001b[0;34m()\u001b[0m\n\u001b[1;32m     93\u001b[0m \u001b[38;5;66;03m#     print(dist[target])\u001b[39;00m\n\u001b[1;32m     94\u001b[0m     \n\u001b[1;32m     95\u001b[0m \u001b[38;5;66;03m#     print(np.count_nonzero(np.isinf(dist)))\u001b[39;00m\n\u001b[0;32m   (...)\u001b[0m\n\u001b[1;32m     98\u001b[0m     \n\u001b[1;32m     99\u001b[0m     \u001b[38;5;66;03m#print(len(S))\u001b[39;00m\n\u001b[1;32m    101\u001b[0m     \u001b[38;5;28;01mreturn\u001b[39;00m \u001b[38;5;28mlen\u001b[39m(S)\n\u001b[0;32m--> 104\u001b[0m \u001b[43mfind_route\u001b[49m\u001b[43m(\u001b[49m\u001b[43mhill_data\u001b[49m\u001b[38;5;241;43m.\u001b[39;49m\u001b[43mcopy\u001b[49m\u001b[43m(\u001b[49m\u001b[43m)\u001b[49m\u001b[43m,\u001b[49m\u001b[43m \u001b[49m\u001b[43m(\u001b[49m\u001b[38;5;241;43m0\u001b[39;49m\u001b[43m,\u001b[49m\u001b[43m \u001b[49m\u001b[38;5;241;43m25\u001b[39;49m\u001b[43m)\u001b[49m\u001b[43m)\u001b[49m\n",
      "Input \u001b[0;32mIn [217]\u001b[0m, in \u001b[0;36mfind_route\u001b[0;34m(hill_matrix, starting_location)\u001b[0m\n\u001b[1;32m     88\u001b[0m         \u001b[38;5;28;01mwhile\u001b[39;00m u \u001b[38;5;129;01mand\u001b[39;00m u \u001b[38;5;241m!=\u001b[39m source:\n\u001b[1;32m     89\u001b[0m             \u001b[38;5;66;03m#print(u)            \u001b[39;00m\n\u001b[1;32m     90\u001b[0m             S\u001b[38;5;241m.\u001b[39mappend(u)\n\u001b[0;32m---> 91\u001b[0m             u \u001b[38;5;241m=\u001b[39m \u001b[43mprev\u001b[49m\u001b[43m[\u001b[49m\u001b[43mu\u001b[49m\u001b[43m]\u001b[49m\n\u001b[1;32m     93\u001b[0m \u001b[38;5;66;03m#     print(dist[target])\u001b[39;00m\n\u001b[1;32m     94\u001b[0m     \n\u001b[1;32m     95\u001b[0m \u001b[38;5;66;03m#     print(np.count_nonzero(np.isinf(dist)))\u001b[39;00m\n\u001b[0;32m   (...)\u001b[0m\n\u001b[1;32m     98\u001b[0m     \n\u001b[1;32m     99\u001b[0m     \u001b[38;5;66;03m#print(len(S))\u001b[39;00m\n\u001b[1;32m    101\u001b[0m     \u001b[38;5;28;01mreturn\u001b[39;00m \u001b[38;5;28mlen\u001b[39m(S)\n",
      "\u001b[0;31mIndexError\u001b[0m: only integers, slices (`:`), ellipsis (`...`), numpy.newaxis (`None`) and integer or boolean arrays are valid indices"
     ]
    }
   ],
   "source": [
    "def find_route(hill_matrix, starting_location=None):\n",
    "    \n",
    "    hill_matrix = hill_matrix.copy()\n",
    "    if starting_location is None:\n",
    "        source = np.where(hill_matrix == ord('S')-ord('a'))\n",
    "        source = (source[0][0], source[1][0])\n",
    "    else:\n",
    "        source = starting_location\n",
    "    #print(source)\n",
    "    \n",
    "    hill_matrix[source] = ord('a')-ord('a')\n",
    "    \n",
    "    target = np.where(hill_matrix == ord('E')-ord('a'))\n",
    "    target = (target[0][0], target[1][0])\n",
    "    #print(target)\n",
    "    \n",
    "    hill_matrix[target] = ord('z')-ord('a')\n",
    "    \n",
    "    #print(hill_matrix)\n",
    "    \n",
    "    dist = np.full(hill_matrix.shape, np.inf)\n",
    "    prev = np.full(hill_matrix.shape, np.nan, dtype=object)\n",
    "    Q = set([tuple(map(int, x)) for x in np.argwhere(dist)])\n",
    "    \n",
    "    dist[source] = 0\n",
    "    \n",
    "    route = list()\n",
    "    \n",
    "    i = 0\n",
    "    \n",
    "    while (len(Q) > 0):\n",
    "\n",
    "        # u ← vertex in Q with min dist[u]\n",
    "\n",
    "        dists = [dist[q] for q in Q]\n",
    "        min_dist_set = {[q for q in Q][dists.index(min(dists))]}\n",
    "        u = Q.intersection(min_dist_set).pop()\n",
    "\n",
    "        #u = Q.intersection({min([(q, dist[q]) for q in Q], key = lambda t: t[1])[0]}).pop()\n",
    "        #print(F\"u = {u}\")\n",
    "         \n",
    "        \n",
    "        # remove u from Q\n",
    "        Q = Q.difference({u})\n",
    "        route.append(u)\n",
    "        \n",
    "        # for each neighbor v of u still in Q\n",
    "        neighbours = set([(u[0]+s[0], u[1]+s[1]) for s in [[1,0],[-1,0],[0,1],[0,-1]]])\n",
    "        for v in Q.intersection(neighbours):\n",
    "            #alt = dist[u]+1# + hill_matrix[v]\n",
    "            cost = 1 if (hill_matrix[v] - hill_matrix[u] <= 1) else np.inf\n",
    "            alt = dist[u] + cost\n",
    "            if alt < dist[v]:\n",
    "                dist[v] = alt\n",
    "                prev[v] = u\n",
    "                    \n",
    "\n",
    "        if u == target:\n",
    "            # print(\"Made it!\")\n",
    "            # print(f\"u: {u}\")\n",
    "            # print(f\"dist[u]: {dist[u]}\")\n",
    "            # print(f\"prev[u]: {prev[u]}\")\n",
    "            Q = set()                               \n",
    "\n",
    "        # print(f\"\\nIteration: {i}\")\n",
    "        #print(f\"Current position: {u}\")\n",
    "        # print(f\"Neighbours: {neighbours}\")\n",
    "        # #print(dist)\n",
    "        # #print(prev)\n",
    "        # print(route)\n",
    "        \n",
    "        i += 1\n",
    "    # print(prev)\n",
    "    # print(dist)\n",
    "    # print(route)\n",
    "\n",
    "    # wikipedia - dijkstra reversals\n",
    "    # 1  S ← empty sequence\n",
    "    # 2  u ← target\n",
    "    # 3  if prev[u] is defined or u = source:          // Do something only if the vertex is reachable\n",
    "    # 4      while u is defined:                       // Construct the shortest path with a stack S\n",
    "    # 5          insert u at the beginning of S        // Push the vertex onto the stack\n",
    "    # 6          u ← prev[u]                           // Traverse from target to source\n",
    "\n",
    "    S = []\n",
    "    u = target\n",
    "    if prev[u] or u == source:\n",
    "        while u and u != source:\n",
    "            #print(u)            \n",
    "            S.append(u)\n",
    "            u = prev[u]\n",
    "    \n",
    "#     print(dist[target])\n",
    "    \n",
    "#     print(np.count_nonzero(np.isinf(dist)))\n",
    "    \n",
    "#     print(route)\n",
    "    \n",
    "    #print(len(S))\n",
    "    \n",
    "    return len(S)\n",
    "\n",
    "    \n",
    "find_route(hill_data.copy(), (0, 25))\n",
    "#find_route(hill_data.copy())"
   ]
  },
  {
   "cell_type": "markdown",
   "id": "80a20afe-26b3-4b6f-bc2c-b9028dd5d890",
   "metadata": {},
   "source": [
    "# --- Part Two ---\n",
    "\n"
   ]
  },
  {
   "cell_type": "code",
   "execution_count": null,
   "id": "e2842543-13be-4a6d-bc23-7f875c15f76f",
   "metadata": {},
   "outputs": [
    {
     "name": "stderr",
     "output_type": "stream",
     "text": [
      " 12%|███████▏                                                    | 118/992 [02:39<21:12,  1.46s/it]"
     ]
    },
    {
     "name": "stdout",
     "output_type": "stream",
     "text": [
      "New dist_min: 408\n"
     ]
    },
    {
     "name": "stderr",
     "output_type": "stream",
     "text": [
      " 16%|█████████▍                                                  | 156/992 [03:32<28:58,  2.08s/it]"
     ]
    },
    {
     "name": "stdout",
     "output_type": "stream",
     "text": [
      "New dist_min: 407\n"
     ]
    },
    {
     "name": "stderr",
     "output_type": "stream",
     "text": [
      " 20%|███████████▊                                                | 195/992 [04:21<16:01,  1.21s/it]"
     ]
    },
    {
     "name": "stdout",
     "output_type": "stream",
     "text": [
      "New dist_min: 406\n"
     ]
    },
    {
     "name": "stderr",
     "output_type": "stream",
     "text": [
      " 23%|█████████████▌                                              | 225/992 [04:58<18:50,  1.47s/it]"
     ]
    },
    {
     "name": "stdout",
     "output_type": "stream",
     "text": [
      "New dist_min: 405\n"
     ]
    },
    {
     "name": "stderr",
     "output_type": "stream",
     "text": [
      " 24%|██████████████▋                                             | 243/992 [05:25<19:22,  1.55s/it]"
     ]
    },
    {
     "name": "stdout",
     "output_type": "stream",
     "text": [
      "New dist_min: 404\n"
     ]
    },
    {
     "name": "stderr",
     "output_type": "stream",
     "text": [
      " 29%|█████████████████▎                                          | 286/992 [06:23<14:51,  1.26s/it]"
     ]
    },
    {
     "name": "stdout",
     "output_type": "stream",
     "text": [
      "New dist_min: 403\n"
     ]
    },
    {
     "name": "stderr",
     "output_type": "stream",
     "text": [
      " 30%|██████████████████                                          | 298/992 [06:36<13:13,  1.14s/it]"
     ]
    },
    {
     "name": "stdout",
     "output_type": "stream",
     "text": [
      "New dist_min: 402\n"
     ]
    },
    {
     "name": "stderr",
     "output_type": "stream",
     "text": [
      " 76%|█████████████████████████████████████████████▋              | 755/992 [17:25<04:03,  1.03s/it]"
     ]
    },
    {
     "name": "stdout",
     "output_type": "stream",
     "text": [
      "New dist_min: 401\n"
     ]
    },
    {
     "name": "stderr",
     "output_type": "stream",
     "text": [
      " 77%|██████████████████████████████████████████████▎             | 765/992 [17:35<03:52,  1.02s/it]"
     ]
    },
    {
     "name": "stdout",
     "output_type": "stream",
     "text": [
      "New dist_min: 400\n"
     ]
    },
    {
     "name": "stderr",
     "output_type": "stream",
     "text": [
      " 98%|██████████████████████████████████████████████████████████▌ | 969/992 [20:49<00:21,  1.08it/s]"
     ]
    }
   ],
   "source": [
    "from tqdm import tqdm\n",
    "dist_min = find_route(hill_data.copy())\n",
    "start_part1 = np.argwhere(hill_data == ord('S')-ord('a')) \n",
    "start_part2 = np.argwhere(hill_data == 0) \n",
    "for x in tqdm(np.concatenate((start_part1, start_part2))):\n",
    "    #print(f\"x = {tuple(x)}\")\n",
    "    try:\n",
    "        dist = find_route(hill_data.copy(), tuple(x))\n",
    "        if dist < dist_min:\n",
    "            print(f\"New dist_min: {dist_min}\")\n",
    "            dist_min = min(dist_min, dist)\n",
    "        #print(dist)        \n",
    "    except IndexError:\n",
    "        pass\n",
    "        #print(\"Error\")\n",
    "\n",
    "print(f\"dist_min: {dist_min}\")\n",
    "#source = (source[0][0], source[1][0])"
   ]
  },
  {
   "cell_type": "code",
   "execution_count": null,
   "id": "5ec1cde7-aa12-4fe5-a2c8-24096e2006e8",
   "metadata": {},
   "outputs": [],
   "source": []
  }
 ],
 "metadata": {
  "kernelspec": {
   "display_name": "venv39",
   "language": "python",
   "name": "venv39"
  },
  "language_info": {
   "codemirror_mode": {
    "name": "ipython",
    "version": 3
   },
   "file_extension": ".py",
   "mimetype": "text/x-python",
   "name": "python",
   "nbconvert_exporter": "python",
   "pygments_lexer": "ipython3",
   "version": "3.9.13"
  }
 },
 "nbformat": 4,
 "nbformat_minor": 5
}
