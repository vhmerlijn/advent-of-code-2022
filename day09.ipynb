{
 "cells": [
  {
   "cell_type": "markdown",
   "id": "27874450-3f59-4d82-a6a7-232b63ca7837",
   "metadata": {},
   "source": [
    "# --- Day 9: Rope Bridge ---\n",
    "\n"
   ]
  },
  {
   "cell_type": "code",
   "execution_count": 1,
   "id": "bb5e6268-b632-42e0-bdfc-21aee3276585",
   "metadata": {},
   "outputs": [],
   "source": [
    "# Load inputs\n",
    "filename = \"inputs/day9-input.txt\"\n",
    "motions = list()\n",
    "with open(filename) as infile:\n",
    "    for line in infile:\n",
    "        step = line.strip().split(\" \")\n",
    "        motions.append((step[0], int(step[1])))\n"
   ]
  },
  {
   "cell_type": "code",
   "execution_count": 2,
   "id": "14fab649-9677-45c3-8da2-f77a8e81efd9",
   "metadata": {},
   "outputs": [],
   "source": [
    "def update_position(direction, position):\n",
    "    if direction == \"R\":\n",
    "        position[0] += 1\n",
    "    elif direction == \"L\":\n",
    "        position[0] -= 1\n",
    "    elif direction == \"U\":\n",
    "        position[1] += 1\n",
    "    elif direction == \"D\":\n",
    "        position[1] -= 1\n",
    "    \n",
    "    return position\n"
   ]
  },
  {
   "cell_type": "code",
   "execution_count": 3,
   "id": "37f075a2-9f4b-4cee-9563-bc94f6a2d1c1",
   "metadata": {},
   "outputs": [],
   "source": [
    "def step_tail(pos_head, pos_tail):\n",
    "    # Check if adjacent\n",
    "    if max(abs(pos_head[0] - pos_tail[0]), abs(pos_head[1] - pos_tail[1])) <= 1:\n",
    "        return pos_tail\n",
    "    elif pos_head[0] == pos_tail[0]:\n",
    "        return [pos_tail[0], pos_tail[1] + (1 if pos_head[1] > pos_tail[1] else -1)]\n",
    "    elif pos_head[1] == pos_tail[1]:\n",
    "        return [pos_tail[0] + (1 if pos_head[0] > pos_tail[0] else -1), pos_tail[1]]\n",
    "    else:\n",
    "        return [\n",
    "            pos_tail[0] + (1 if pos_head[0] > pos_tail[0] else -1),\n",
    "            pos_tail[1] + (1 if pos_head[1] > pos_tail[1] else -1),\n",
    "        ]\n"
   ]
  },
  {
   "cell_type": "code",
   "execution_count": 4,
   "id": "5f8f10b5-4cdb-4c84-a777-9de49e97ca9a",
   "metadata": {},
   "outputs": [
    {
     "data": {
      "text/plain": [
       "6057"
      ]
     },
     "execution_count": 4,
     "metadata": {},
     "output_type": "execute_result"
    }
   ],
   "source": [
    "def simulate_rope(motion_data):\n",
    "\n",
    "    positions = []\n",
    "    position_current = {\"H\": [0, 0], \"T\": [0, 0]}\n",
    "    positions.append(position_current)\n",
    "\n",
    "    step = 0\n",
    "\n",
    "    positions_tail = list()\n",
    "    positions_tail.append(tuple(position_current[\"T\"]))\n",
    "\n",
    "    for m in motion_data:\n",
    "        for i in range(0, m[1]):\n",
    "            # Update H position\n",
    "            pos_h = position_current[\"H\"].copy()\n",
    "            pos_h = update_position(m[0], pos_h)\n",
    "\n",
    "            # Update T position\n",
    "            pos_t = step_tail(pos_h, position_current[\"T\"])\n",
    "\n",
    "            # Append to positions\n",
    "            position_current = {\"H\": pos_h, \"T\": pos_t}\n",
    "            positions_tail.append(tuple(pos_t))\n",
    "            positions.append(position_current)\n",
    "\n",
    "    return positions_tail\n",
    "\n",
    "\n",
    "len(set(simulate_rope(motions)))\n"
   ]
  },
  {
   "cell_type": "markdown",
   "id": "68b07fea-b833-4020-8b81-68042e2b3a21",
   "metadata": {},
   "source": [
    "# --- Part Two ---\n",
    "\n"
   ]
  },
  {
   "cell_type": "code",
   "execution_count": 5,
   "id": "4887aefe-9df4-4cb4-92b7-b24b6c1e65bf",
   "metadata": {},
   "outputs": [
    {
     "data": {
      "text/plain": [
       "2514"
      ]
     },
     "execution_count": 5,
     "metadata": {},
     "output_type": "execute_result"
    }
   ],
   "source": [
    "def simulate_rope_longer(motion_data, num_knots=10):\n",
    "    # Knots 1, 2, ..., num_knots\n",
    "    positions = []\n",
    "    position_current = [[0, 0] for i in range(0, num_knots)]\n",
    "    positions.append(position_current)\n",
    "\n",
    "    step = 0\n",
    "\n",
    "    positions_tail = list()\n",
    "    positions_tail.append(tuple(position_current[num_knots - 1]))\n",
    "\n",
    "    for m in motion_data:\n",
    "        for i in range(0, m[1]):\n",
    "            # Update H position\n",
    "            pos_previous_knot = position_current[0].copy()\n",
    "            pos_previous_knot = update_position(m[0], pos_previous_knot)\n",
    "            new_positions = [pos_previous_knot]\n",
    "\n",
    "            for k in range(1, num_knots):\n",
    "\n",
    "                # Update next knot position\n",
    "                pos_previous_knot = step_tail(pos_previous_knot, position_current[k])\n",
    "                new_positions.append(pos_previous_knot)\n",
    "\n",
    "                if k == num_knots - 1:\n",
    "                    positions_tail.append(tuple(pos_previous_knot))\n",
    "\n",
    "            position_current = new_positions\n",
    "            positions.append(position_current)\n",
    "\n",
    "    return positions_tail\n",
    "\n",
    "\n",
    "len(set(simulate_rope_longer(motions)))\n"
   ]
  }
 ],
 "metadata": {
  "kernelspec": {
   "display_name": "venv39",
   "language": "python",
   "name": "venv39"
  },
  "language_info": {
   "codemirror_mode": {
    "name": "ipython",
    "version": 3
   },
   "file_extension": ".py",
   "mimetype": "text/x-python",
   "name": "python",
   "nbconvert_exporter": "python",
   "pygments_lexer": "ipython3",
   "version": "3.9.13"
  }
 },
 "nbformat": 4,
 "nbformat_minor": 5
}
