{
 "cells": [
  {
   "cell_type": "markdown",
   "id": "8ddbd676-8e5d-47fa-bd0b-15de09538e1d",
   "metadata": {},
   "source": [
    "# --- Day 14: Regolith Reservoir ---\n",
    "\n"
   ]
  },
  {
   "cell_type": "code",
   "execution_count": 257,
   "id": "6791fb8e-01a9-4cb4-a20b-94ad0c625b5b",
   "metadata": {},
   "outputs": [
    {
     "name": "stdout",
     "output_type": "stream",
     "text": [
      ".......+....\n",
      "............\n",
      "............\n",
      "............\n",
      ".....#...##.\n",
      ".....#...#..\n",
      "...###...#..\n",
      ".........#..\n",
      ".........#..\n",
      ".#########..\n",
      "............\n",
      "............\n",
      "............\n"
     ]
    }
   ],
   "source": [
    "import numpy as np\n",
    "\n",
    "\n",
    "def pretty_print_cave(mat_cave):\n",
    "    for i in range(0, len(mat_cave)):\n",
    "        print(\n",
    "            \"\".join(\n",
    "                [\n",
    "                    \".\" if y == 0 else \"+\" if y == -1 else \"o\" if y == 2 else \"#\"\n",
    "                    for y in mat_cave[i]\n",
    "                ]\n",
    "            )\n",
    "        )\n",
    "    return 0\n",
    "\n",
    "\n",
    "def read_cave_data(filename, display=False):\n",
    "    # Read cave input data and set up matrix\n",
    "    # with cave layout\n",
    "    cave_lines = []\n",
    "\n",
    "    with open(filename) as infile:\n",
    "        for line in infile:\n",
    "            cave_line = [\n",
    "                tuple(map(int, x.split(\",\"))) for x in line.strip().split(\" -> \")\n",
    "            ]\n",
    "            cave_lines.append(cave_line)\n",
    "\n",
    "    # Get dimensions of cave\n",
    "    cave_dim_xmin = min([min([y[0] for y in x]) for x in cave_lines])\n",
    "    cave_dim_xmax = max([max([y[0] for y in x]) for x in cave_lines])\n",
    "    cave_dim_ymin = min([min([y[1] for y in x]) for x in cave_lines])\n",
    "    cave_dim_ymax = max([max([y[1] for y in x]) for x in cave_lines])\n",
    "    if cave_dim_ymin <= 0:\n",
    "        raise ValueError(\n",
    "            f\"Unexpected cave dimension cave_dim_ymin: {cave_dim_ymin} (expect > 0)\"\n",
    "        )\n",
    "\n",
    "    # Set up matrix to represent cave - add margin\n",
    "    # of 1 to each horizontal side, margin of 3 to bottom\n",
    "    matrix_cave = np.full((cave_dim_ymax + 4, (cave_dim_xmax - cave_dim_xmin) + 3), 0)\n",
    "\n",
    "    # Loop over traces in scan to build cave\n",
    "    for cave_line in cave_lines:\n",
    "        for i in range(0, len(cave_line) - 1):\n",
    "            x_start = min(cave_line[i][0], cave_line[i + 1][0]) - (cave_dim_xmin - 1)\n",
    "            x_end = max(cave_line[i][0], cave_line[i + 1][0]) - (cave_dim_xmin - 2)\n",
    "            y_start = min(cave_line[i][1], cave_line[i + 1][1])\n",
    "            y_end = max(cave_line[i][1], cave_line[i + 1][1]) + 1\n",
    "            matrix_cave[y_start:y_end, x_start:x_end] = 1\n",
    "\n",
    "    # Starting position relative to matrix indices\n",
    "    start_loc = (0, 500 - (cave_dim_xmin - 1))\n",
    "    matrix_cave[start_loc] = -1\n",
    "\n",
    "    if display:\n",
    "        pretty_print_cave(matrix_cave)\n",
    "\n",
    "    return matrix_cave, start_loc\n",
    "\n",
    "\n",
    "read_cave_data(\"inputs/day14-example.txt\", True);\n"
   ]
  },
  {
   "cell_type": "code",
   "execution_count": 255,
   "id": "cd43da90-fbb4-4519-aa02-d3849cddaf0a",
   "metadata": {},
   "outputs": [
    {
     "data": {
      "text/plain": [
       "683"
      ]
     },
     "execution_count": 255,
     "metadata": {},
     "output_type": "execute_result"
    }
   ],
   "source": [
    "def simulate_sand(matrix_cave, start_loc, print_grains=[]):\n",
    "\n",
    "    # One grain of sand at a time\n",
    "    num_grains = 1\n",
    "    grain_out_of_bounds = False\n",
    "    while not grain_out_of_bounds:\n",
    "        grain_at_rest = False\n",
    "        grain_position = start_loc\n",
    "\n",
    "        # Update position\n",
    "        while not grain_at_rest:\n",
    "            grain_out_of_bounds = not any(\n",
    "                matrix_cave[grain_position[0] :, grain_position[1]] > 0\n",
    "            )\n",
    "            if not grain_out_of_bounds:\n",
    "                grain_position = (\n",
    "                    grain_position[0]\n",
    "                    + np.where(matrix_cave[grain_position[0] :, grain_position[1]] > 0)[\n",
    "                        0\n",
    "                    ][0]\n",
    "                    - 1,\n",
    "                    grain_position[1],\n",
    "                )\n",
    "                if (\n",
    "                    sum(\n",
    "                        matrix_cave[\n",
    "                            grain_position[0] + 1,\n",
    "                            grain_position[1] - 1 : grain_position[1] + 2,\n",
    "                        ]\n",
    "                        > 0\n",
    "                    )\n",
    "                    == 3\n",
    "                ):\n",
    "                    grain_at_rest = True\n",
    "                elif matrix_cave[grain_position[0] + 1, grain_position[1] - 1] == 0:\n",
    "                    grain_position = (grain_position[0] + 1, grain_position[1] - 1)\n",
    "                else:\n",
    "                    grain_position = (grain_position[0] + 1, grain_position[1] + 1)\n",
    "            else:\n",
    "                grain_at_rest = True\n",
    "        if grain_position == start_loc:\n",
    "            grain_out_of_bounds = True\n",
    "            num_grains += 1\n",
    "        num_grains += 1\n",
    "        matrix_cave[grain_position] = 2\n",
    "\n",
    "        if num_grains in print_grains:\n",
    "            print(f\"\\nGrain: {num_grains}\")\n",
    "            pretty_print_cave(matrix_cave)\n",
    "\n",
    "    return num_grains - 2\n",
    "\n",
    "\n",
    "mat_cave, start_pos = read_cave_data(\"inputs/day14.txt\")\n",
    "simulate_sand(mat_cave.copy(), start_pos, [])\n"
   ]
  },
  {
   "cell_type": "markdown",
   "id": "7f82063c-a309-4c01-aaf7-c2665948f9d2",
   "metadata": {},
   "source": [
    "# --- Part Two ---\n",
    "\n"
   ]
  },
  {
   "cell_type": "code",
   "execution_count": 256,
   "id": "149df9cb-83db-49bf-8bc2-d483dc900667",
   "metadata": {},
   "outputs": [
    {
     "data": {
      "text/plain": [
       "28821"
      ]
     },
     "execution_count": 256,
     "metadata": {},
     "output_type": "execute_result"
    }
   ],
   "source": [
    "def part_two(matrix_cave, start_loc, print_grains=[]):\n",
    "    # Adjust cave matrix input\n",
    "    floor_height = max(np.where(matrix_cave == 1)[0]) + 2\n",
    "    matrix_cave = np.pad(mat_cave, [(0, 0), (floor_height, floor_height)])\n",
    "    matrix_cave[floor_height, :] = 1\n",
    "    start_loc = (start_loc[0], start_loc[1] + floor_height)\n",
    "    return simulate_sand(matrix_cave, start_loc, print_grains)\n",
    "\n",
    "\n",
    "part_two(mat_cave.copy(), start_pos)\n"
   ]
  },
  {
   "cell_type": "code",
   "execution_count": null,
   "id": "e1bc20ba-1a94-4b42-9216-b58792164ca6",
   "metadata": {},
   "outputs": [],
   "source": []
  }
 ],
 "metadata": {
  "kernelspec": {
   "display_name": "venv39",
   "language": "python",
   "name": "venv39"
  },
  "language_info": {
   "codemirror_mode": {
    "name": "ipython",
    "version": 3
   },
   "file_extension": ".py",
   "mimetype": "text/x-python",
   "name": "python",
   "nbconvert_exporter": "python",
   "pygments_lexer": "ipython3",
   "version": "3.9.13"
  }
 },
 "nbformat": 4,
 "nbformat_minor": 5
}
