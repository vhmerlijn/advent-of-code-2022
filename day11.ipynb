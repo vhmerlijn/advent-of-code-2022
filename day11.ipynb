{
 "cells": [
  {
   "cell_type": "markdown",
   "id": "623a385c-73e8-4249-b2b0-ffd198bb7930",
   "metadata": {},
   "source": [
    "# --- Day 11: Monkey in the Middle ---\n",
    "\n"
   ]
  },
  {
   "cell_type": "code",
   "execution_count": 158,
   "id": "d94ddaa6-6bb4-43b7-90b2-6e43865a62cf",
   "metadata": {},
   "outputs": [],
   "source": [
    "# Set up Monkey class\n",
    "\n",
    "class Monkey(object):\n",
    "    def __init__(self, number, items, operation, test, test_outcome, divisibility):\n",
    "        self.number = number\n",
    "        self.items = items\n",
    "        self.operation = operation\n",
    "        self.test = test\n",
    "        self.test_outcome = test_outcome\n",
    "        self.items_inspected = 0\n",
    "        self.divisibility = divisibility\n",
    "    \n",
    "    def __repr__(self):\n",
    "        return str(self.number)\n",
    "    \n",
    "    def do_operation(self, old):\n",
    "        return eval(self.operation)\n",
    "    \n",
    "    def test_worry_level(self, worry_level):\n",
    "        if \"divisible by \" in self.test:\n",
    "            if worry_level % int(self.test.split(\" by \")[1]) == 0:\n",
    "                return self.test_outcome[0]\n",
    "            else:\n",
    "                return self.test_outcome[1]\n",
    "        \n",
    "    \n",
    "# Load input \n",
    "filename = \"inputs/day11-input.txt\"\n",
    "raw_monkeys = list()\n",
    "with open(filename) as infile:\n",
    "    monkey_data = list()\n",
    "    for line in infile:\n",
    "        monkey_data.append(line.strip())\n",
    "        if len(line.strip()) == 0:\n",
    "            raw_monkeys.append(monkey_data[:-1])\n",
    "            monkey_data = list()\n",
    "\n",
    "# Process input\n",
    "monkeys = list()\n",
    "for raw_monkey in raw_monkeys:\n",
    "    number = int(raw_monkey[0].split(\"Monkey \")[1].replace(\":\", \"\"))\n",
    "    items = list(map(int, raw_monkey[1].split(\"Starting items: \")[1].split(\", \")))\n",
    "    operation = raw_monkey[2].split(\"Operation: new = \")[1]\n",
    "    test = raw_monkey[3].split(\"Test: \")[1]\n",
    "    test_outcome = [int(raw_monkey[4].split(\"true: throw to monkey \")[1]),\n",
    "                    int(raw_monkey[5].split(\"false: throw to monkey \")[1])]\n",
    "    divisibility = int(test.split(\" by \")[1])\n",
    "    monkeys.append(Monkey(number, items, operation, test, test_outcome, divisibility))\n"
   ]
  },
  {
   "cell_type": "code",
   "execution_count": 159,
   "id": "4803c016-6515-4438-83d1-b7afcd1a1701",
   "metadata": {},
   "outputs": [
    {
     "name": "stdout",
     "output_type": "stream",
     "text": [
      "Monkey 0: 292\n",
      "Monkey 1: 296\n",
      "Monkey 2: 55\n",
      "Monkey 3: 60\n",
      "Monkey 4: 58\n",
      "Monkey 5: 258\n",
      "Monkey 6: 6\n",
      "Monkey 7: 298\n"
     ]
    },
    {
     "data": {
      "text/plain": [
       "0"
      ]
     },
     "execution_count": 159,
     "metadata": {},
     "output_type": "execute_result"
    }
   ],
   "source": [
    "# Process input\n",
    "monkeys = list()\n",
    "for raw_monkey in raw_monkeys:\n",
    "    number = int(raw_monkey[0].split(\"Monkey \")[1].replace(\":\", \"\"))\n",
    "    items = list(map(int, raw_monkey[1].split(\"Starting items: \")[1].split(\", \")))\n",
    "    operation = raw_monkey[2].split(\"Operation: new = \")[1]\n",
    "    test = raw_monkey[3].split(\"Test: \")[1]\n",
    "    test_outcome = [int(raw_monkey[4].split(\"true: throw to monkey \")[1]),\n",
    "                    int(raw_monkey[5].split(\"false: throw to monkey \")[1])]\n",
    "    divisibility = int(test.split(\" by \")[1])\n",
    "    monkeys.append(Monkey(number, items, operation, test, test_outcome, divisibility))\n",
    "\n",
    "\n",
    "def simulate_monkeys(monkey_list, rounds = 20, worry_level_div = 3):\n",
    "    \n",
    "    # The process of each monkey taking a single turn is called a round.\n",
    "    for round_num in range(0, rounds):\n",
    "        #print(f\"\\nRound: {round_num}\")\n",
    "        \n",
    "        # The monkeys take turns inspecting and throwing items. \n",
    "        # On a single monkey's turn, it inspects and throws all \n",
    "        # of the items it is holding one at a time and in the order \n",
    "        # listed. Monkey 0 goes first, then monkey 1, and so on \n",
    "        # until each monkey has had one turn. \n",
    "        for monkey in monkey_list:\n",
    "            #print(f\"Monkey:{monkey.number}\")\n",
    "            for item in monkey.items:\n",
    "                #print(f\"  Monkey inspects an item with a worry level of {item}.\")\n",
    "                new_worry_level = monkey.do_operation(item)\n",
    "                #print(f\"    Worry level is {new_worry_level}.\")\n",
    "                current_worry_level = new_worry_level // worry_level_div\n",
    "                #print(f\"    Monkey gets bored with item. Worry level is divided by 3 to {current_worry_level}.\")\n",
    "                throw_to_monkey = monkey.test_worry_level(current_worry_level)\n",
    "                #print(f\"    Item with worry level {current_worry_level} is thrown to monkey {throw_to_monkey}.\")\n",
    "                monkey_list[throw_to_monkey].items.append(current_worry_level)\n",
    "                monkey.items_inspected += 1\n",
    "            monkey.items = []\n",
    "            \n",
    "        #[print(f\"Monkey {m.number}: {m.items}\") for m in monkey_list]\n",
    "    \n",
    "    [print(f\"Monkey {m.number}: {m.items_inspected}\") for m in monkey_list]\n",
    "    \n",
    "    return 0\n",
    "\n",
    "            \n",
    "simulate_monkeys(monkeys, rounds=20)"
   ]
  },
  {
   "cell_type": "code",
   "execution_count": 160,
   "id": "e88facf1-9297-4be6-ac91-a22c49f822b2",
   "metadata": {},
   "outputs": [
    {
     "data": {
      "text/plain": [
       "88208"
      ]
     },
     "execution_count": 160,
     "metadata": {},
     "output_type": "execute_result"
    }
   ],
   "source": [
    "298*296"
   ]
  },
  {
   "cell_type": "code",
   "execution_count": 161,
   "id": "689538cf-5e44-4522-9fe9-9b461e3cf466",
   "metadata": {},
   "outputs": [
    {
     "name": "stdout",
     "output_type": "stream",
     "text": [
      "Monkey 0: 145312\n",
      "Monkey 1: 76000\n",
      "Monkey 2: 69327\n",
      "Monkey 3: 69344\n",
      "Monkey 4: 118646\n",
      "Monkey 5: 75990\n",
      "Monkey 6: 13329\n",
      "Monkey 7: 145314\n"
     ]
    },
    {
     "data": {
      "text/plain": [
       "0"
      ]
     },
     "execution_count": 161,
     "metadata": {},
     "output_type": "execute_result"
    }
   ],
   "source": [
    "# Process input\n",
    "monkeys = list()\n",
    "for raw_monkey in raw_monkeys:\n",
    "    number = int(raw_monkey[0].split(\"Monkey \")[1].replace(\":\", \"\"))\n",
    "    items = list(map(int, raw_monkey[1].split(\"Starting items: \")[1].split(\", \")))\n",
    "    operation = raw_monkey[2].split(\"Operation: new = \")[1]\n",
    "    test = raw_monkey[3].split(\"Test: \")[1]\n",
    "    test_outcome = [int(raw_monkey[4].split(\"true: throw to monkey \")[1]),\n",
    "                    int(raw_monkey[5].split(\"false: throw to monkey \")[1])]\n",
    "    divisibility = int(test.split(\" by \")[1])\n",
    "    monkeys.append(Monkey(number, items, operation, test, test_outcome, divisibility))\n",
    "\n",
    "# Tests only require the remainders after dividing by each of the divisors\n",
    "# Instead of worry level, track each item's worry level's remainders \n",
    "divisors = list()\n",
    "for monkey in monkeys:\n",
    "    divisors.append(monkey.divisibility)\n",
    "    \n",
    "for monkey in monkeys:\n",
    "    processed_items = list()\n",
    "    for item in monkey.items:\n",
    "        processed_items.append({d: item % d for d in divisors})\n",
    "    monkey.items = processed_items\n",
    "\n",
    "def simulate_monkeys(monkey_list, rounds = 20, worry_level_div = 3):\n",
    "    \n",
    "    # The process of each monkey taking a single turn is called a round.\n",
    "    for round_num in range(0, rounds):\n",
    "        #print(f\"\\nRound: {round_num}\")\n",
    "        \n",
    "        # The monkeys take turns inspecting and throwing items. \n",
    "        # On a single monkey's turn, it inspects and throws all \n",
    "        # of the items it is holding one at a time and in the order \n",
    "        # listed. Monkey 0 goes first, then monkey 1, and so on \n",
    "        # until each monkey has had one turn. \n",
    "        for monkey in monkey_list:\n",
    "            #print(f\"Monkey:{monkey.number}\")\n",
    "            for item in monkey.items:\n",
    "                #print(f\"  Monkey inspects an item with a worry level of {item}.\")\n",
    "                new_worry_level = {k: monkey.do_operation(v) % k for k,v in item.items()}\n",
    "                #print(f\"    Worry level is {new_worry_level}.\")\n",
    "                #current_worry_level = new_worry_level // worry_level_div\n",
    "                #print(f\"    Monkey gets bored with item. Worry level is divided by 3 to {current_worry_level}.\")\n",
    "                throw_to_monkey = monkey.test_worry_level(new_worry_level[monkey.divisibility])\n",
    "                #print(f\"    Item with worry level {current_worry_level} is thrown to monkey {throw_to_monkey}.\")\n",
    "                monkey_list[throw_to_monkey].items.append(new_worry_level)\n",
    "                monkey.items_inspected += 1\n",
    "            monkey.items = []\n",
    "            \n",
    "        #[print(f\"Monkey {m.number}: {m.items}\") for m in monkey_list]\n",
    "    \n",
    "    [print(f\"Monkey {m.number}: {m.items_inspected}\") for m in monkey_list]\n",
    "    \n",
    "    return 0\n",
    "\n",
    "            \n",
    "simulate_monkeys(monkeys, rounds=10000, worry_level_div = 1)"
   ]
  },
  {
   "cell_type": "code",
   "execution_count": 162,
   "id": "78a9ca03-9b0b-4b0b-b8e7-f89ea367193b",
   "metadata": {},
   "outputs": [
    {
     "data": {
      "text/plain": [
       "21115867968"
      ]
     },
     "execution_count": 162,
     "metadata": {},
     "output_type": "execute_result"
    }
   ],
   "source": [
    "145314*145312"
   ]
  },
  {
   "cell_type": "code",
   "execution_count": null,
   "id": "63ab261b-541f-40f5-b4d5-baa898c439ab",
   "metadata": {},
   "outputs": [],
   "source": []
  }
 ],
 "metadata": {
  "kernelspec": {
   "display_name": "venv39",
   "language": "python",
   "name": "venv39"
  },
  "language_info": {
   "codemirror_mode": {
    "name": "ipython",
    "version": 3
   },
   "file_extension": ".py",
   "mimetype": "text/x-python",
   "name": "python",
   "nbconvert_exporter": "python",
   "pygments_lexer": "ipython3",
   "version": "3.9.13"
  }
 },
 "nbformat": 4,
 "nbformat_minor": 5
}
