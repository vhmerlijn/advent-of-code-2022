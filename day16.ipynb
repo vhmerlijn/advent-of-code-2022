{
 "cells": [
  {
   "cell_type": "markdown",
   "id": "56188e44-aece-4992-b667-cf020d52b01f",
   "metadata": {},
   "source": [
    "# --- Day 16: Proboscidea Volcanium ---\n",
    "\n"
   ]
  },
  {
   "cell_type": "code",
   "execution_count": 31,
   "id": "a83a3e16-b7bf-4a45-bd87-ce7a5636ec94",
   "metadata": {},
   "outputs": [
    {
     "data": {
      "text/plain": [
       "{'AA': 0,\n",
       " 'BB': 13,\n",
       " 'CC': 2,\n",
       " 'DD': 20,\n",
       " 'EE': 3,\n",
       " 'FF': 0,\n",
       " 'GG': 0,\n",
       " 'HH': 22,\n",
       " 'II': 0,\n",
       " 'JJ': 21}"
      ]
     },
     "metadata": {},
     "output_type": "display_data"
    },
    {
     "data": {
      "text/plain": [
       "{'AA': ['DD', 'II', 'BB'],\n",
       " 'BB': ['CC', 'AA'],\n",
       " 'CC': ['DD', 'BB'],\n",
       " 'DD': ['CC', 'AA', 'EE'],\n",
       " 'EE': ['FF', 'DD'],\n",
       " 'FF': ['EE', 'GG'],\n",
       " 'GG': ['FF', 'HH'],\n",
       " 'HH': ['GG'],\n",
       " 'II': ['AA', 'JJ'],\n",
       " 'JJ': ['II']}"
      ]
     },
     "metadata": {},
     "output_type": "display_data"
    }
   ],
   "source": [
    "def read_input(filename):\n",
    "    flow_rates = dict()\n",
    "    graph = dict()\n",
    "    with open(filename) as infile:\n",
    "        for line in infile:\n",
    "            line = line.strip().replace(\"valves\", \"valve\")\n",
    "            line = line.strip().replace(\"tunnels lead\", \"tunnel leads\")\n",
    "            valve = line.split(\" has flow rate=\")[0].replace(\"Valve \", \"\")\n",
    "            flow_rate, connections = line.split(\" has flow rate=\")[1].split(\"; tunnel leads to valve \")\n",
    "            flow_rates[valve] = int(flow_rate)\n",
    "            graph[valve] = connections.split(\", \")\n",
    "        \n",
    "    return flow_rates, graph\n",
    "\n",
    "f, g = read_input(\"inputs/day16-example.txt\")\n",
    "display(f)\n",
    "display(g)"
   ]
  },
  {
   "cell_type": "code",
   "execution_count": 29,
   "id": "1525eb70-6cde-4637-a7b9-8c0710e7e209",
   "metadata": {},
   "outputs": [
    {
     "data": {
      "text/plain": [
       "15"
      ]
     },
     "execution_count": 29,
     "metadata": {},
     "output_type": "execute_result"
    }
   ],
   "source": [
    "len([k for k, v in f.items() if v > 0])"
   ]
  },
  {
   "cell_type": "code",
   "execution_count": null,
   "id": "f1a78186-fc4b-4268-baf8-429d9b46a76a",
   "metadata": {},
   "outputs": [],
   "source": [
    "# The key is the order in which you open the valves\n",
    "# The number of these is the number of permutations \n",
    "# Only open positive flow valves - if there are N with flow > 0\n",
    "# then there are N! permutations\n",
    "\n",
    "# Input data has N = 15 so N! = O(10^12) ...\n",
    "\n",
    "# Need to decrease search space first\n",
    "\n",
    "# We can open at most 15 valves in 30 minutes but this is assuming\n",
    "# we can move directly between all positive flow rate valves\n",
    "\n",
    "# The search space is the list of all positive flow rate valves that\n",
    "# can be opened in 30 minutes"
   ]
  },
  {
   "cell_type": "code",
   "execution_count": 59,
   "id": "3b6e9760-930e-4a07-95de-1f23fb6540eb",
   "metadata": {},
   "outputs": [
    {
     "name": "stdout",
     "output_type": "stream",
     "text": [
      "Distances from AA:\n",
      "{'AA': 0, 'BB': 1, 'CC': 2, 'DD': 1, 'EE': 2, 'FF': 3, 'GG': 4, 'HH': 5, 'II': 1, 'JJ': 2}\n"
     ]
    }
   ],
   "source": [
    "from queue import Queue\n",
    "import numpy as np\n",
    "\n",
    "def BFS(G, root):\n",
    "    # Breadth-first search\n",
    "    # https://en.wikipedia.org/wiki/Breadth-first_search\n",
    "    #\n",
    "    # Input: A graph G and a starting vertex root of G\n",
    "    # Output: Goal state. The parent links trace the shortest path back to root[8]\n",
    "\n",
    "    # let Q be a queue\n",
    "    Q = Queue()\n",
    "    \n",
    "    # Dict to store distances from root\n",
    "    dist = {k: np.inf for k in G.keys()}\n",
    "\n",
    "    # label root as explored\n",
    "    explored = set()    \n",
    "    explored.update({0})\n",
    "    \n",
    "    # Q.enqueue(root)\n",
    "    Q.put(root)\n",
    "\n",
    "    while not Q.empty():\n",
    "        # v := Q.dequeue()\n",
    "        v = Q.get()\n",
    "        \n",
    "        # if v is the goal then return v\n",
    "        if v == root:\n",
    "            dist[v] = 0\n",
    "            \n",
    "        # for all edges from v to w in G.adjacentEdges(v)        \n",
    "        for w in G[v]:\n",
    "            if w not in explored:\n",
    "                if dist[w] > dist[v] + 1:\n",
    "                    dist[w] = dist[v] + 1\n",
    "                Q.put(w)\n",
    "                \n",
    "                # label w as explored\n",
    "                explored.update({w})\n",
    "                \n",
    "    print(f\"Distances from {root}:\\n{dist}\")  \n",
    "    \n",
    "    return dist\n",
    " \n",
    "BFS(g, \"AA\");"
   ]
  },
  {
   "cell_type": "code",
   "execution_count": 49,
   "id": "37c9c01e-9c2c-4113-9f0a-5400801697fc",
   "metadata": {},
   "outputs": [],
   "source": [
    "x = set()\n"
   ]
  },
  {
   "cell_type": "code",
   "execution_count": null,
   "id": "f3a02c20-66c7-4fee-a12f-b61290a6f3da",
   "metadata": {},
   "outputs": [],
   "source": []
  }
 ],
 "metadata": {
  "kernelspec": {
   "display_name": "venv39",
   "language": "python",
   "name": "venv39"
  },
  "language_info": {
   "codemirror_mode": {
    "name": "ipython",
    "version": 3
   },
   "file_extension": ".py",
   "mimetype": "text/x-python",
   "name": "python",
   "nbconvert_exporter": "python",
   "pygments_lexer": "ipython3",
   "version": "3.9.13"
  }
 },
 "nbformat": 4,
 "nbformat_minor": 5
}
