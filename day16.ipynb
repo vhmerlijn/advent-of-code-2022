{
 "cells": [
  {
   "cell_type": "markdown",
   "id": "56188e44-aece-4992-b667-cf020d52b01f",
   "metadata": {},
   "source": [
    "# --- Day 16: Proboscidea Volcanium ---\n",
    "\n"
   ]
  },
  {
   "cell_type": "code",
   "execution_count": 61,
   "id": "a83a3e16-b7bf-4a45-bd87-ce7a5636ec94",
   "metadata": {},
   "outputs": [],
   "source": [
    "def read_input(filename):\n",
    "    flow_rates = dict()\n",
    "    graph = dict()\n",
    "    with open(filename) as infile:\n",
    "        for line in infile:\n",
    "            line = line.strip().replace(\"valves\", \"valve\")\n",
    "            line = line.strip().replace(\"tunnels lead\", \"tunnel leads\")\n",
    "            valve = line.split(\" has flow rate=\")[0].replace(\"Valve \", \"\")\n",
    "            flow_rate, connections = line.split(\" has flow rate=\")[1].split(\n",
    "                \"; tunnel leads to valve \"\n",
    "            )\n",
    "            flow_rates[valve] = int(flow_rate)\n",
    "            graph[valve] = connections.split(\", \")\n",
    "\n",
    "    return flow_rates, graph\n",
    "\n",
    "\n",
    "f, g = read_input(\"inputs/day16-example.txt\")\n"
   ]
  },
  {
   "cell_type": "code",
   "execution_count": null,
   "id": "f1a78186-fc4b-4268-baf8-429d9b46a76a",
   "metadata": {},
   "outputs": [],
   "source": [
    "# The key is the order in which you open the valves\n",
    "# The number of these is the number of permutations \n",
    "# Only open positive flow valves - if there are N with flow > 0\n",
    "# then there are N! permutations\n",
    "\n",
    "# Input data has N = 15 so N! = O(10^12) ...\n",
    "\n",
    "# Need to decrease search space first\n",
    "\n",
    "# We can open at most 15 valves in 30 minutes but this is assuming\n",
    "# we can move directly between all positive flow rate valves\n",
    "\n",
    "# The search space is the list of all positive flow rate valves that\n",
    "# can be opened in 30 minutes"
   ]
  },
  {
   "cell_type": "code",
   "execution_count": 65,
   "id": "3b6e9760-930e-4a07-95de-1f23fb6540eb",
   "metadata": {},
   "outputs": [
    {
     "data": {
      "text/plain": [
       "{'AA': 0,\n",
       " 'BB': 1,\n",
       " 'CC': 2,\n",
       " 'DD': 1,\n",
       " 'EE': 2,\n",
       " 'FF': 3,\n",
       " 'GG': 4,\n",
       " 'HH': 5,\n",
       " 'II': 1,\n",
       " 'JJ': 2}"
      ]
     },
     "execution_count": 65,
     "metadata": {},
     "output_type": "execute_result"
    }
   ],
   "source": [
    "from queue import Queue\n",
    "import numpy as np\n",
    "\n",
    "\n",
    "def get_valve_distances(G, root):\n",
    "    # Breadth-first search\n",
    "    # https://en.wikipedia.org/wiki/Breadth-first_search\n",
    "    #\n",
    "    # Input: A graph G and a starting vertex root of G\n",
    "    # Output: Goal state. The parent links trace the shortest path back to root[8]\n",
    "\n",
    "    # let Q be a queue\n",
    "    Q = Queue()\n",
    "\n",
    "    # Dict to store distances from root\n",
    "    dist = {k: np.inf for k in G.keys()}\n",
    "\n",
    "    # label root as explored\n",
    "    explored = set()\n",
    "    explored.update({0})\n",
    "\n",
    "    # Q.enqueue(root)\n",
    "    Q.put(root)\n",
    "\n",
    "    while not Q.empty():\n",
    "        # v := Q.dequeue()\n",
    "        v = Q.get()\n",
    "\n",
    "        # if v is the goal then return v\n",
    "        if v == root:\n",
    "            dist[v] = 0\n",
    "\n",
    "        # for all edges from v to w in G.adjacentEdges(v)\n",
    "        for w in G[v]:\n",
    "            if w not in explored:\n",
    "                if dist[w] > dist[v] + 1:\n",
    "                    dist[w] = dist[v] + 1\n",
    "                Q.put(w)\n",
    "\n",
    "                # label w as explored\n",
    "                explored.update({w})\n",
    "\n",
    "    return dist\n",
    "\n",
    "get_valve_distances(g, \"AA\")\n"
   ]
  }
 ],
 "metadata": {
  "kernelspec": {
   "display_name": "venv39",
   "language": "python",
   "name": "venv39"
  },
  "language_info": {
   "codemirror_mode": {
    "name": "ipython",
    "version": 3
   },
   "file_extension": ".py",
   "mimetype": "text/x-python",
   "name": "python",
   "nbconvert_exporter": "python",
   "pygments_lexer": "ipython3",
   "version": "3.9.13"
  }
 },
 "nbformat": 4,
 "nbformat_minor": 5
}
