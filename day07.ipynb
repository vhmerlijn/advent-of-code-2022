{
 "cells": [
  {
   "cell_type": "markdown",
   "id": "fcf9cc63-a6a6-4ba6-ad2e-ddd52551ae3a",
   "metadata": {},
   "source": [
    "# --- Day 7: No Space Left On Device ---\n",
    "\n"
   ]
  },
  {
   "cell_type": "code",
   "execution_count": 127,
   "id": "30b769ef-3758-408b-852e-4c60eec54b9a",
   "metadata": {},
   "outputs": [],
   "source": [
    "# Load data\n",
    "filename = \"inputs/day7-input.txt\"\n",
    "with open(filename) as infile:\n",
    "    terminal_output = [line.strip() for line in infile]\n",
    "    "
   ]
  },
  {
   "cell_type": "code",
   "execution_count": 128,
   "id": "dba3fb6e-a188-469e-8ac4-8c545bf4c15e",
   "metadata": {},
   "outputs": [
    {
     "name": "stdout",
     "output_type": "stream",
     "text": [
      "sum_small_directories: 1792222\n",
      "smallest_directory_size_to_delete: 1112963\n"
     ]
    }
   ],
   "source": [
    "def try_without_recursion(terminal_data):\n",
    "    # Keep track of which directory we're in\n",
    "    working_directories = list()\n",
    "\n",
    "    # Dict to keep track of size of all directories, full paths\n",
    "    full_directories = dict()\n",
    "\n",
    "    for terminal_line in terminal_data:\n",
    "        # If we're moving up one directory, get rid of the last one\n",
    "        if terminal_line == \"$ cd ..\":\n",
    "            working_directories.pop()\n",
    "\n",
    "        # If we're moving into a directory, add it to the tracker\n",
    "        elif terminal_line.startswith(\"$ cd\"):\n",
    "            working_directories.append(terminal_line.split(\"$ cd \")[1])\n",
    "\n",
    "        # Otherwise, we're looking at a list of files\n",
    "        elif not terminal_line.startswith(\"dir\") and not terminal_line.startswith(\n",
    "            \"$ ls\"\n",
    "        ):\n",
    "\n",
    "            #\n",
    "            for dir_depth in range(0, len(working_directories)):\n",
    "                path_str = \"/\".join(working_directories[: dir_depth + 1])\n",
    "                if path_str not in full_directories.keys():\n",
    "                    full_directories[path_str] = 0\n",
    "                full_directories[path_str] += int(terminal_line.split(\" \")[0])\n",
    "\n",
    "    sum_small_directories = 0\n",
    "    for k, v in full_directories.items():\n",
    "        if v <= 100000:\n",
    "            sum_small_directories += v\n",
    "\n",
    "    unused_space = 70000000 - full_directories[\"/\"]\n",
    "    space_required = 30000000\n",
    "    smallest_directory_size_to_delete = 70000000\n",
    "    for k, v in full_directories.items():\n",
    "        if unused_space + full_directories[k] >= space_required:\n",
    "            smallest_directory_size_to_delete = min(\n",
    "                smallest_directory_size_to_delete, full_directories[k]\n",
    "            )\n",
    "\n",
    "    print(f\"sum_small_directories: {sum_small_directories}\")\n",
    "    print(f\"smallest_directory_size_to_delete: {smallest_directory_size_to_delete}\")\n",
    "\n",
    "\n",
    "try_without_recursion(terminal_output)\n"
   ]
  },
  {
   "cell_type": "code",
   "execution_count": null,
   "id": "13a175b2-89e4-467f-acb6-fb759e7ceedd",
   "metadata": {},
   "outputs": [],
   "source": []
  }
 ],
 "metadata": {
  "kernelspec": {
   "display_name": "venv39",
   "language": "python",
   "name": "venv39"
  },
  "language_info": {
   "codemirror_mode": {
    "name": "ipython",
    "version": 3
   },
   "file_extension": ".py",
   "mimetype": "text/x-python",
   "name": "python",
   "nbconvert_exporter": "python",
   "pygments_lexer": "ipython3",
   "version": "3.9.13"
  }
 },
 "nbformat": 4,
 "nbformat_minor": 5
}
