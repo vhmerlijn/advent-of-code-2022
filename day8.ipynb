{
 "cells": [
  {
   "cell_type": "markdown",
   "id": "394a3444-0bd7-43ab-b0d3-03587d184d7f",
   "metadata": {},
   "source": [
    "# --- Day 8: Treetop Tree House ---\n",
    "\n"
   ]
  },
  {
   "cell_type": "code",
   "execution_count": 227,
   "id": "f4d29b82-0c10-4691-9d90-a63fa5ddc460",
   "metadata": {},
   "outputs": [],
   "source": [
    "# Load data\n",
    "filename = \"day8-input.txt\"\n",
    "with open(filename) as infile:\n",
    "    input_data = np.array([list(map(int, list(line.strip()))) for line in infile])\n",
    "    "
   ]
  },
  {
   "cell_type": "code",
   "execution_count": 228,
   "id": "72f4145d-94be-4c54-9fba-bfa7975d474f",
   "metadata": {},
   "outputs": [
    {
     "data": {
      "text/plain": [
       "1792"
      ]
     },
     "execution_count": 228,
     "metadata": {},
     "output_type": "execute_result"
    }
   ],
   "source": [
    "def count_hidden_trees(tree_data):\n",
    "    num_visible = 0\n",
    "    # Horizontal\n",
    "    for i in range(1, tree_data.shape[0]-1):\n",
    "        # Vertical\n",
    "        for j in range(1, tree_data.shape[1]-1):\n",
    "            if tree_data[i, j] > min(max(tree_data[:i, j]),\n",
    "                                     max(tree_data[i+1:, j]),\n",
    "                                     max(tree_data[i, :j]),\n",
    "                                     max(tree_data[i, j+1:])):\n",
    "                num_visible += 1\n",
    "                \n",
    "    return num_visible + 2*tree_data.shape[0] + 2*(tree_data.shape[1]-2)\n",
    "    \n",
    "count_hidden_trees(input_data)"
   ]
  },
  {
   "cell_type": "markdown",
   "id": "1ea3eb05-a7c0-4462-b6f8-a5a25a9d2d38",
   "metadata": {},
   "source": [
    "# --- Part Two ---\n",
    "\n"
   ]
  },
  {
   "cell_type": "code",
   "execution_count": 230,
   "id": "32ab7729-2ed9-4c0c-86a1-79777db966a8",
   "metadata": {},
   "outputs": [
    {
     "data": {
      "text/plain": [
       "334880"
      ]
     },
     "execution_count": 230,
     "metadata": {},
     "output_type": "execute_result"
    }
   ],
   "source": [
    "def calculate_scenic_scores(tree_data):\n",
    "    scores = list()\n",
    "    # Horizontal\n",
    "    for i in range(1, tree_data.shape[0] - 1):\n",
    "        # Vertical\n",
    "        for j in range(1, tree_data.shape[1] - 1):\n",
    "            # Calculate scenic score\n",
    "            scores.append(\n",
    "                score_direction(tree_data[i, j], tree_data[:i, j], reverse=True)\n",
    "                * score_direction(tree_data[i, j], tree_data[i + 1 :, j])\n",
    "                * score_direction(tree_data[i, j], tree_data[i, :j], reverse=True)\n",
    "                * score_direction(tree_data[i, j], tree_data[i, j + 1 :])\n",
    "            )\n",
    "    return scores\n",
    "\n",
    "\n",
    "def score_direction(tree_height, view, reverse=False):\n",
    "    # First occurrence of -1 in the following list means blocked from then on\n",
    "    view = list(view).copy()\n",
    "    if reverse:\n",
    "        view.reverse()\n",
    "    views = [-1 if tree_height <= view[i] else 1 for i in range(0, len(view))]\n",
    "\n",
    "    if -1 in views:\n",
    "        # Index 0 means view is blocked\n",
    "        return max(1, views.index(-1) + 1)\n",
    "    else:\n",
    "        return len(views)\n",
    "\n",
    "\n",
    "max(calculate_scenic_scores(input_data))\n"
   ]
  },
  {
   "cell_type": "code",
   "execution_count": null,
   "id": "efe1d588-d707-4636-a722-d991f2a05d55",
   "metadata": {},
   "outputs": [],
   "source": []
  }
 ],
 "metadata": {
  "kernelspec": {
   "display_name": "venv39",
   "language": "python",
   "name": "venv39"
  },
  "language_info": {
   "codemirror_mode": {
    "name": "ipython",
    "version": 3
   },
   "file_extension": ".py",
   "mimetype": "text/x-python",
   "name": "python",
   "nbconvert_exporter": "python",
   "pygments_lexer": "ipython3",
   "version": "3.9.13"
  }
 },
 "nbformat": 4,
 "nbformat_minor": 5
}
