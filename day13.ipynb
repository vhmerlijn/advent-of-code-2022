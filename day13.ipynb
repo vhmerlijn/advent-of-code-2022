{
 "cells": [
  {
   "cell_type": "code",
   "execution_count": 87,
   "id": "27de1b7d-c4ba-446a-82c8-0e7607273265",
   "metadata": {},
   "outputs": [],
   "source": [
    "def read_packet_data(filename):\n",
    "    \n",
    "    with open(filename) as infile:\n",
    "        raw_data = [line.strip() for line in infile]\n",
    "    \n",
    "    raw_data.append(\"\")\n",
    "    \n",
    "    packet_pairs = list()\n",
    "    for i in range(0, len(raw_data)):\n",
    "        if len(raw_data[i])==0:\n",
    "            packet_pairs.append([eval(raw_data[i-2]), eval(raw_data[i-1])])\n",
    "            \n",
    "    return packet_pairs\n"
   ]
  },
  {
   "cell_type": "code",
   "execution_count": 88,
   "id": "2b1c6eac-feeb-40e7-bfa3-0d40756ae83d",
   "metadata": {},
   "outputs": [
    {
     "name": "stdout",
     "output_type": "stream",
     "text": [
      "150 packets\n",
      "\n",
      "\n",
      "Processed: 150\n",
      "Any undecideds: False\n",
      "correct indices: [1, 3, 5, 7, 11, 14, 15, 16, 20, 22, 24, 26, 28, 30, 31, 35, 37, 40, 41, 43, 44, 45, 47, 48, 51, 52, 54, 55, 59, 63, 64, 66, 67, 68, 69, 71, 76, 77, 79, 81, 85, 86, 87, 88, 90, 93, 94, 95, 96, 100, 105, 107, 108, 109, 110, 115, 120, 121, 122, 123, 124, 126, 130, 131, 132, 135, 139, 140, 141, 142, 143, 144, 146, 147, 149]\n",
      "sum_indices: 5808\n"
     ]
    },
    {
     "data": {
      "text/plain": [
       "5808"
      ]
     },
     "execution_count": 88,
     "metadata": {},
     "output_type": "execute_result"
    }
   ],
   "source": [
    "def compare_packets(packet_pair, undecided = True, right_order = None, verbose=False):\n",
    "    \n",
    "    left = packet_pair[0]\n",
    "    right = packet_pair[1]\n",
    "\n",
    "    \n",
    "    if verbose:\n",
    "        print(f\" - Compare {left} vs {right}\")\n",
    "        \n",
    "    if type(left) == int and type(right) == int:\n",
    "        if left < right:\n",
    "            right_order = True\n",
    "            undecided = False   \n",
    "            if verbose:\n",
    "                print(f\" - Left side is smaller, so inputs are in the right order\")            \n",
    "        elif left > right:\n",
    "            right_order = False\n",
    "            undecided = False\n",
    "            if verbose:\n",
    "                print(f\" - Right side is smaller, so inputs are not in the right order\")\n",
    "    else:\n",
    "        while undecided and (left or type(left)==int):\n",
    "            if (type(left) == int and type(right) == list) or (type(left) == list and type(right) == int):\n",
    "                if type(left) == int:\n",
    "                    left = [left]\n",
    "                    if verbose:\n",
    "                        print(f\" - Mixed types; convert left to {left} and retry comparison\")\n",
    "                else:\n",
    "                    right = [right]\n",
    "                    if verbose:\n",
    "                        print(f\" - Mixed types; convert right to {right} and retry comparison\")\n",
    "                    \n",
    "            if len(left) > 0 and len(right) == 0:\n",
    "                undecided = False\n",
    "                right_order = False\n",
    "                if verbose:\n",
    "                    print(\"- Right side ran out of items, so inputs are not in the right order\")    \n",
    "                break\n",
    "             \n",
    "            undecided, right_order = compare_packets([left.pop(0), right.pop(0)], undecided, right_order, verbose)\n",
    "            if not undecided:\n",
    "                break   \n",
    "        \n",
    "        if undecided and (type(left) == list and len(left) == 0) and (type(right)==int or len(right) > 0):\n",
    "            undecided = False\n",
    "            right_order = True\n",
    "            if verbose:\n",
    "                print(\"- Left side ran out of items, so inputs are in the right order\")\n",
    "            \n",
    "    return undecided, right_order\n",
    "\n",
    "def compare_all(packet_pair_inputs, debug=False):\n",
    "    sum_indices = 0\n",
    "    print(f\"{len(packet_pair_inputs)} packets\")\n",
    "    i = 0\n",
    "    outcomes = list()\n",
    "    undecideds = list()\n",
    "    indices_sum = list()\n",
    "    for packets_in in packet_pair_inputs:\n",
    "        i += 1       \n",
    "        if debug:\n",
    "            print(f\"\\n== Pair {i} ==\")\n",
    "            print(f\"   - Comparing: [{packets_in[0]}, {packets_in[1]}]\")           \n",
    "        undec, right_order = compare_packets(packets_in)\n",
    "        outcomes.append(right_order)\n",
    "        if debug: \n",
    "            print(f\"   - Right order: {right_order}\")\n",
    "        undecideds.append(undec)\n",
    "        if right_order:\n",
    "            sum_indices += i\n",
    "            indices_sum.append(i)\n",
    "        \n",
    "    print(f\"\\n\\nProcessed: {len(outcomes)}\")\n",
    "    print(f\"Any undecideds: {any(undecideds)}\")\n",
    "    print(f\"correct indices: {indices_sum}\")\n",
    "    print(f\"sum_indices: {sum_indices}\")    \n",
    "    \n",
    "    return sum_indices\n",
    "\n",
    "\n",
    "packet_pairs = read_packet_data(\"inputs/day13.txt\");\n",
    "#_, right_order = compare_packets([0, [2, 0]], verbose=True);\n",
    "#print(f\"right_order: {right_order}\")\n",
    "compare_all(packet_pairs, False)\n",
    "# wrong: 5641 (too low)"
   ]
  },
  {
   "cell_type": "code",
   "execution_count": null,
   "id": "1463e1c5-6eda-4344-a44b-c71e19e6cb79",
   "metadata": {},
   "outputs": [],
   "source": []
  }
 ],
 "metadata": {
  "kernelspec": {
   "display_name": "venv39",
   "language": "python",
   "name": "venv39"
  },
  "language_info": {
   "codemirror_mode": {
    "name": "ipython",
    "version": 3
   },
   "file_extension": ".py",
   "mimetype": "text/x-python",
   "name": "python",
   "nbconvert_exporter": "python",
   "pygments_lexer": "ipython3",
   "version": "3.9.13"
  }
 },
 "nbformat": 4,
 "nbformat_minor": 5
}
