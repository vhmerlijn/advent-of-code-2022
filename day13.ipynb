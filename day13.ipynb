{
 "cells": [
  {
   "cell_type": "code",
   "execution_count": 217,
   "id": "27de1b7d-c4ba-446a-82c8-0e7607273265",
   "metadata": {},
   "outputs": [],
   "source": [
    "def read_packet_data(filename):\n",
    "    \n",
    "    with open(filename) as infile:\n",
    "        raw_data = [line.strip() for line in infile]\n",
    "    \n",
    "    raw_data.append(\"\")\n",
    "    \n",
    "    packet_pairs = list()\n",
    "    for i in range(0, len(raw_data)):\n",
    "        if len(raw_data[i])==0:\n",
    "            packet_pairs.append([eval(raw_data[i-2]), eval(raw_data[i-1])])\n",
    "            \n",
    "    return packet_pairs\n"
   ]
  },
  {
   "cell_type": "code",
   "execution_count": 232,
   "id": "2b1c6eac-feeb-40e7-bfa3-0d40756ae83d",
   "metadata": {},
   "outputs": [
    {
     "name": "stdout",
     "output_type": "stream",
     "text": [
      "1\n",
      "2\n",
      "4\n",
      "6\n"
     ]
    },
    {
     "data": {
      "text/plain": [
       "13"
      ]
     },
     "execution_count": 232,
     "metadata": {},
     "output_type": "execute_result"
    }
   ],
   "source": [
    "def compare_packets(packet_pair, undecided = True, right_order = None, verbose=False):\n",
    "    \n",
    "    left = packet_pair[0]\n",
    "    right = packet_pair[1]\n",
    "\n",
    "    \n",
    "    if verbose:\n",
    "        print(f\" - Compare {left} vs {right}\")\n",
    "        \n",
    "    if type(left) == int and type(right) == int:\n",
    "        if left < right:\n",
    "            right_order = True\n",
    "            undecided = False   \n",
    "            if verbose:\n",
    "                print(f\" - Left side is smaller, so inputs are in the right order\")            \n",
    "        elif left > right:\n",
    "            right_order = False\n",
    "            undecided = False\n",
    "            if verbose:\n",
    "                print(f\" - Right side is smaller, so inputs are not in the right order\")\n",
    "    else:\n",
    "        while undecided and left:\n",
    "            if (type(left) == int and type(right) == list) or (type(left) == list and type(right) == int):\n",
    "                if type(left) == int:\n",
    "                    left = [left]\n",
    "                    if verbose:\n",
    "                        print(f\" - Mixed types; convert left to {left} and retry comparison\")\n",
    "                else:\n",
    "                    right = [right]\n",
    "                    if verbose:\n",
    "                        print(f\" - Mixed types; convert right to {right} and retry comparison\")\n",
    "                    \n",
    "            if len(left) > 0 and len(right) == 0:\n",
    "                undecided = False\n",
    "                right_order = False\n",
    "                if verbose:\n",
    "                    print(\"- Right side ran out of items, so inputs are not in the right order\")    \n",
    "                break\n",
    "             \n",
    "            undecided, right_order = compare_packets([left.pop(0), right.pop(0)], undecided, right_order, verbose)\n",
    "            if not undecided:\n",
    "                break   \n",
    "        \n",
    "        if undecided and (type(left) == list and len(left) == 0) and (type(right)==int or len(right) > 0):\n",
    "            undecided = False\n",
    "            right_order = True\n",
    "            if verbose:\n",
    "                print(\"- Left side ran out of items, so inputs are in the right order\")\n",
    "            \n",
    "    return undecided, right_order\n",
    "\n",
    "def compare_all(packet_pair_inputs):\n",
    "    sum_indices = 0\n",
    "    i = 1\n",
    "    for packets_in in packet_pair_inputs:\n",
    "        _, right_order = compare_packets(packets_in)\n",
    "        if right_order:\n",
    "            sum_indices += i\n",
    "            #print(sum_indices)\n",
    "        \n",
    "        i += 1\n",
    "        \n",
    "    return sum_indices\n",
    "\n",
    "\n",
    "packet_pairs = read_packet_data(\"inputs/day13-example.txt\");\n",
    "#_, right_order = compare_packets(packet_pairs[-19], verbose=True);\n",
    "#print(f\"right_order: {right_order}\")\n",
    "compare_all(packet_pairs)\n",
    "# wrong: 5641 (too low)"
   ]
  },
  {
   "cell_type": "code",
   "execution_count": 234,
   "id": "6e53d3ad-5907-478f-9781-8f0178ac8119",
   "metadata": {},
   "outputs": [
    {
     "name": "stdout",
     "output_type": "stream",
     "text": [
      " - Compare [[1], 1] vs [1]\n",
      " - Compare [1] vs 1\n",
      " - Mixed types; convert right to [1] and retry comparison\n",
      " - Compare 1 vs 1\n",
      "- Right side ran out of items, so inputs are not in the right order\n"
     ]
    }
   ],
   "source": [
    "test_pair = [[[1],1], [1]]\n",
    "_, right_order = compare_packets(test_pair, verbose=True);\n"
   ]
  },
  {
   "cell_type": "code",
   "execution_count": null,
   "id": "8f0e866f-4f0c-4ac5-91c4-ecabcfb1c6f5",
   "metadata": {},
   "outputs": [],
   "source": []
  }
 ],
 "metadata": {
  "kernelspec": {
   "display_name": "venv39",
   "language": "python",
   "name": "venv39"
  },
  "language_info": {
   "codemirror_mode": {
    "name": "ipython",
    "version": 3
   },
   "file_extension": ".py",
   "mimetype": "text/x-python",
   "name": "python",
   "nbconvert_exporter": "python",
   "pygments_lexer": "ipython3",
   "version": "3.9.13"
  }
 },
 "nbformat": 4,
 "nbformat_minor": 5
}
