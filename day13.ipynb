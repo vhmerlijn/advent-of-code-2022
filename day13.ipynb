{
 "cells": [
  {
   "cell_type": "code",
   "execution_count": 57,
   "id": "27de1b7d-c4ba-446a-82c8-0e7607273265",
   "metadata": {},
   "outputs": [],
   "source": [
    "def read_packet_data(filename):\n",
    "    \n",
    "    with open(filename) as infile:\n",
    "        raw_data = [line.strip() for line in infile]\n",
    "    \n",
    "    raw_data.append(\"\")\n",
    "    \n",
    "    packet_pairs = list()\n",
    "    for i in range(0, len(raw_data)):\n",
    "        if len(raw_data[i])==0:\n",
    "            packet_pairs.append([eval(raw_data[i-2]), eval(raw_data[i-1])])\n",
    "            \n",
    "    return packet_pairs\n"
   ]
  },
  {
   "cell_type": "code",
   "execution_count": 58,
   "id": "2b1c6eac-feeb-40e7-bfa3-0d40756ae83d",
   "metadata": {},
   "outputs": [
    {
     "name": "stdout",
     "output_type": "stream",
     "text": [
      "8 packets\n",
      "\n",
      "== Pair 1 ==\n",
      "   - Comparing: [[1, 1, 3, 1, 1], [1, 1, 5, 1, 1]]\n",
      "   - Right order: True\n",
      "\n",
      "== Pair 2 ==\n",
      "   - Comparing: [[[1], [2, 3, 4]], [[1], 4]]\n",
      "   - Right order: True\n",
      "\n",
      "== Pair 3 ==\n",
      "   - Comparing: [[9], [[8, 7, 6]]]\n",
      "   - Right order: False\n",
      "\n",
      "== Pair 4 ==\n",
      "   - Comparing: [[[4, 4], 4, 4], [[4, 4], 4, 4, 4]]\n",
      "   - Right order: True\n",
      "\n",
      "== Pair 5 ==\n",
      "   - Comparing: [[7, 7, 7, 7], [7, 7, 7]]\n",
      "   - Right order: False\n",
      "\n",
      "== Pair 6 ==\n",
      "   - Comparing: [[], [3]]\n",
      "   - Right order: True\n",
      "\n",
      "== Pair 7 ==\n",
      "   - Comparing: [[[[]]], [[]]]\n",
      "   - Right order: False\n",
      "\n",
      "== Pair 8 ==\n",
      "   - Comparing: [[1, [2, [3, [4, [5, 6, 7]]]], 8, 9], [1, [2, [3, [4, [5, 6, 0]]]], 8, 9]]\n",
      "   - Right order: False\n",
      " - Processed: 8\n",
      " - Any undecideds: False\n",
      "sum_indices: 13\n"
     ]
    },
    {
     "data": {
      "text/plain": [
       "13"
      ]
     },
     "execution_count": 58,
     "metadata": {},
     "output_type": "execute_result"
    }
   ],
   "source": [
    "def compare_packets(packet_pair, undecided = True, right_order = None, verbose=False):\n",
    "    \n",
    "    left = packet_pair[0]\n",
    "    right = packet_pair[1]\n",
    "\n",
    "    \n",
    "    if verbose:\n",
    "        print(f\" - Compare {left} vs {right}\")\n",
    "        \n",
    "    if type(left) == int and type(right) == int:\n",
    "        if left < right:\n",
    "            right_order = True\n",
    "            undecided = False   \n",
    "            if verbose:\n",
    "                print(f\" - Left side is smaller, so inputs are in the right order\")            \n",
    "        elif left > right:\n",
    "            right_order = False\n",
    "            undecided = False\n",
    "            if verbose:\n",
    "                print(f\" - Right side is smaller, so inputs are not in the right order\")\n",
    "    else:\n",
    "        while undecided and left:\n",
    "            if (type(left) == int and type(right) == list) or (type(left) == list and type(right) == int):\n",
    "                if type(left) == int:\n",
    "                    left = [left]\n",
    "                    if verbose:\n",
    "                        print(f\" - Mixed types; convert left to {left} and retry comparison\")\n",
    "                else:\n",
    "                    right = [right]\n",
    "                    if verbose:\n",
    "                        print(f\" - Mixed types; convert right to {right} and retry comparison\")\n",
    "                    \n",
    "            if len(left) > 0 and len(right) == 0:\n",
    "                undecided = False\n",
    "                right_order = False\n",
    "                if verbose:\n",
    "                    print(\"- Right side ran out of items, so inputs are not in the right order\")    \n",
    "                break\n",
    "             \n",
    "            undecided, right_order = compare_packets([left.pop(0), right.pop(0)], undecided, right_order, verbose)\n",
    "            if not undecided:\n",
    "                break   \n",
    "        \n",
    "        if undecided and (type(left) == list and len(left) == 0) and (type(right)==int or len(right) > 0):\n",
    "            undecided = False\n",
    "            right_order = True\n",
    "            if verbose:\n",
    "                print(\"- Left side ran out of items, so inputs are in the right order\")\n",
    "            \n",
    "    return undecided, right_order\n",
    "\n",
    "def compare_all(packet_pair_inputs, debug=False):\n",
    "    sum_indices = 0\n",
    "    print(f\"{len(packet_pair_inputs)} packets\")\n",
    "    i = 0\n",
    "    outcomes = list()\n",
    "    undecideds = list()\n",
    "    for packets_in in packet_pair_inputs:\n",
    "        i += 1       \n",
    "        if debug:\n",
    "            print(f\"\\n== Pair {i} ==\")\n",
    "            print(f\"   - Comparing: [{packets_in[0]}, {packets_in[1]}]\")           \n",
    "        undec, right_order = compare_packets(packets_in)\n",
    "        outcomes.append(right_order)\n",
    "        if debug: \n",
    "            print(f\"   - Right order: {right_order}\")\n",
    "        undecideds.append(undec)\n",
    "        if right_order:\n",
    "            sum_indices += i\n",
    "        \n",
    "    print(f\" - Processed: {len(outcomes)}\")\n",
    "    print(f\" - Any undecideds: {any(undecideds)}\")\n",
    "    print(f\"sum_indices: {sum_indices}\")    \n",
    "    return sum_indices\n",
    "\n",
    "\n",
    "packet_pairs = read_packet_data(\"inputs/day13-example.txt\");\n",
    "#_, right_order = compare_packets(packet_pairs[-19], verbose=True);\n",
    "#print(f\"right_order: {right_order}\")\n",
    "compare_all(packet_pairs, True)\n",
    "# wrong: 5641 (too low)"
   ]
  },
  {
   "cell_type": "code",
   "execution_count": 54,
   "id": "8f0e866f-4f0c-4ac5-91c4-ecabcfb1c6f5",
   "metadata": {},
   "outputs": [
    {
     "name": "stdout",
     "output_type": "stream",
     "text": [
      " - Compare [[]] vs [[]]\n",
      " - Compare [] vs []\n"
     ]
    }
   ],
   "source": [
    "test_packet = [[[]],[[]]]\n",
    "\n",
    "_, right_order = compare_packets(test_packet, verbose=True);\n",
    "right_order"
   ]
  },
  {
   "cell_type": "code",
   "execution_count": 55,
   "id": "962a196f-f7b3-40e8-b3f2-1425d244dc4e",
   "metadata": {},
   "outputs": [
    {
     "name": "stdout",
     "output_type": "stream",
     "text": [
      "1 packets\n",
      "\n",
      "== Pair 1 ==\n",
      "   - Comparing: [[], [6]]\n",
      "   - Right order: True\n",
      " - Processed: 1\n",
      " - Any undecideds: False\n",
      "sum_indices: 1\n"
     ]
    },
    {
     "data": {
      "text/plain": [
       "1"
      ]
     },
     "execution_count": 55,
     "metadata": {},
     "output_type": "execute_result"
    }
   ],
   "source": [
    "compare_all([[[],[6]]], True)\n"
   ]
  },
  {
   "cell_type": "code",
   "execution_count": null,
   "id": "c2759971-cc0a-458a-9ca6-f444e8422ae4",
   "metadata": {},
   "outputs": [],
   "source": []
  }
 ],
 "metadata": {
  "kernelspec": {
   "display_name": "venv39",
   "language": "python",
   "name": "venv39"
  },
  "language_info": {
   "codemirror_mode": {
    "name": "ipython",
    "version": 3
   },
   "file_extension": ".py",
   "mimetype": "text/x-python",
   "name": "python",
   "nbconvert_exporter": "python",
   "pygments_lexer": "ipython3",
   "version": "3.9.13"
  }
 },
 "nbformat": 4,
 "nbformat_minor": 5
}
