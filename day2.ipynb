{
 "cells": [
  {
   "cell_type": "markdown",
   "id": "c8e58882-c658-44db-98ce-ba70ff25c0d5",
   "metadata": {},
   "source": [
    "# --- Day 2: Rock Paper Scissors ---\n"
   ]
  },
  {
   "cell_type": "code",
   "execution_count": 28,
   "id": "5b4160df-09f6-470c-b0a9-c3e2f67ed68d",
   "metadata": {},
   "outputs": [
    {
     "name": "stdout",
     "output_type": "stream",
     "text": [
      "8933\n"
     ]
    }
   ],
   "source": [
    "guide = []\n",
    "state_win = [[\"A\", \"Y\"], [\"B\", \"Z\"], [\"C\", \"X\"]]\n",
    "state_lose = [[\"A\", \"Z\"], [\"B\", \"X\"], [\"C\", \"Y\"]]\n",
    "state_draw = [[\"A\", \"X\"], [\"B\", \"Y\"], [\"C\", \"Z\"]]\n",
    "score_shape = {\"X\": 1, \"Y\": 2, \"Z\": 3}\n",
    "score_game = {\"A Y\": 6, \n",
    "              \"B Z\": 6,\n",
    "              \"C X\": 6,\n",
    "              \"A Z\": 0,\n",
    "              \"B X\": 0, \n",
    "              \"C Y\": 0,\n",
    "              \"A X\": 3, \n",
    "              \"B Y\": 3, \n",
    "              \"C Z\": 3} \n",
    "              \n",
    "\n",
    "total_score = 0\n",
    "filename = \"day2-input.txt\"\n",
    "with open(filename, \"r\") as infile:\n",
    "    for line in infile:\n",
    "        game = line.strip()\n",
    "        total_score += score_shape[game.split(\" \")[1]] + score_game[game]\n",
    "\n",
    "print(total_score)\n",
    "\n"
   ]
  },
  {
   "cell_type": "markdown",
   "id": "73d78cff-792c-44ff-b92f-06d9b80df719",
   "metadata": {
    "tags": []
   },
   "source": [
    "# --- Part Two ---\n"
   ]
  },
  {
   "cell_type": "code",
   "execution_count": 30,
   "id": "359dd8a7-4654-4b42-96a6-13633ae99160",
   "metadata": {},
   "outputs": [
    {
     "name": "stdout",
     "output_type": "stream",
     "text": [
      "11998\n"
     ]
    }
   ],
   "source": [
    "state_win = [[\"A\", \"Y\"], [\"B\", \"Z\"], [\"C\", \"X\"]]\n",
    "state_lose = [[\"A\", \"Z\"], [\"B\", \"X\"], [\"C\", \"Y\"]]\n",
    "state_draw = [[\"A\", \"X\"], [\"B\", \"Y\"], [\"C\", \"Z\"]]\n",
    "score_shape = {\"X\": 1, \"Y\": 2, \"Z\": 3}\n",
    "score_game = {\"A Y\": 6, \n",
    "              \"B Z\": 6,\n",
    "              \"C X\": 6,\n",
    "              \"A Z\": 0,\n",
    "              \"B X\": 0, \n",
    "              \"C Y\": 0,\n",
    "              \"A X\": 3, \n",
    "              \"B Y\": 3, \n",
    "              \"C Z\": 3} \n",
    "score_part2 = {\"X\": 0, \"Y\": 3, \"Z\": 6}\n",
    "guide_play = {\"A Y\": \"X\", \n",
    "              \"B Z\": \"Z\",\n",
    "              \"C X\": \"Y\",\n",
    "              \"A Z\": \"Y\",\n",
    "              \"B X\": \"X\", \n",
    "              \"C Y\": \"Z\",\n",
    "              \"A X\": \"Z\", \n",
    "              \"B Y\": \"Y\", \n",
    "              \"C Z\": \"X\"}\n",
    "              \n",
    "\n",
    "total_score = 0\n",
    "with open(filename, \"r\") as infile:\n",
    "    for line in infile:\n",
    "        game = line.strip()\n",
    "        total_score += score_shape[guide_play[game]] + score_part2[game.split(\" \")[1]]\n",
    "\n",
    "print(total_score)\n",
    "\n"
   ]
  },
  {
   "cell_type": "code",
   "execution_count": null,
   "id": "654e61de-ea9f-4f36-b778-50e54bb2f78a",
   "metadata": {},
   "outputs": [],
   "source": []
  }
 ],
 "metadata": {
  "kernelspec": {
   "display_name": "venv39",
   "language": "python",
   "name": "venv39"
  },
  "language_info": {
   "codemirror_mode": {
    "name": "ipython",
    "version": 3
   },
   "file_extension": ".py",
   "mimetype": "text/x-python",
   "name": "python",
   "nbconvert_exporter": "python",
   "pygments_lexer": "ipython3",
   "version": "3.9.13"
  }
 },
 "nbformat": 4,
 "nbformat_minor": 5
}
