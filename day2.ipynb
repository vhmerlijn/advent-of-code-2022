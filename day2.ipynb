{
 "cells": [
  {
   "cell_type": "markdown",
   "id": "c8e58882-c658-44db-98ce-ba70ff25c0d5",
   "metadata": {},
   "source": [
    "# --- Day 2: Rock Paper Scissors ---\n",
    "\n",
    "\n",
    "For example, suppose you were given the following strategy guide:\n",
    "\n",
    "```\n",
    "A Y\n",
    "B X\n",
    "C Z\n",
    "```\n",
    "\n",
    "This strategy guide predicts and recommends the following:\n",
    "\n",
    "- In the first round, your opponent will choose Rock (A), and you should choose Paper (Y). This ends in a win for you with a score of 8 (2 because you chose Paper + 6 because you won).\n",
    "- In the second round, your opponent will choose Paper (B), and you should choose Rock (X). This ends in a loss for you with a score of 1 (1 + 0).\n",
    "- The third round is a draw with both players choosing Scissors, giving you a score of 3 + 3 = 6.\n",
    "\n",
    "In this example, if you were to follow the strategy guide, you would get a total score of 15 (8 + 1 + 6).\n",
    "\n",
    "What would your total score be if everything goes exactly according to your strategy guide?\n",
    "\n"
   ]
  },
  {
   "cell_type": "code",
   "execution_count": 16,
   "id": "5b4160df-09f6-470c-b0a9-c3e2f67ed68d",
   "metadata": {},
   "outputs": [
    {
     "name": "stdout",
     "output_type": "stream",
     "text": [
      "8933\n"
     ]
    }
   ],
   "source": [
    "guide = []\n",
    "state_win = [[\"A\", \"Y\"], [\"B\", \"Z\"], [\"C\", \"X\"]]\n",
    "state_lose = [[\"A\", \"Z\"], [\"B\", \"X\"], [\"C\", \"Y\"]]\n",
    "state_draw = [[\"A\", \"X\"], [\"B\", \"Y\"], [\"C\", \"Z\"]]\n",
    "score_shape = {\"X\": 1, \"Y\": 2, \"Z\": 3}\n",
    "score_game = {\"A Y\": 6, \n",
    "              \"B Z\": 6,\n",
    "              \"C X\": 6,\n",
    "              \"A Z\": 0,\n",
    "              \"B X\": 0, \n",
    "              \"C Y\": 0,\n",
    "              \"A X\": 3, \n",
    "              \"B Y\": 3, \n",
    "              \"C Z\": 3} \n",
    "              \n",
    "\n",
    "total_score = 0\n",
    "with open(\"day2-input.txt\", \"r\") as infile:\n",
    "    for line in infile:\n",
    "        game = line.strip()\n",
    "        total_score += score_shape[game.split(\" \")[1]] + score_game[game]\n",
    "\n",
    "print(total_score)\n",
    "\n"
   ]
  },
  {
   "cell_type": "markdown",
   "id": "73d78cff-792c-44ff-b92f-06d9b80df719",
   "metadata": {
    "tags": []
   },
   "source": [
    "# --- Part Two ---\n",
    "\n",
    "The Elf finishes helping with the tent and sneaks back over to you. \"Anyway, the second column says how the round needs to end: X means you need to lose, Y means you need to end the round in a draw, and Z means you need to win. Good luck!\"\n",
    "\n",
    "The total score is still calculated in the same way, but now you need to figure out what shape to choose so the round ends as indicated. The example above now goes like this:\n",
    "\n",
    "In the first round, your opponent will choose Rock (A), and you need the round to end in a draw (Y), so you also choose Rock. This gives you a score of 1 + 3 = 4.\n",
    "In the second round, your opponent will choose Paper (B), and you choose Rock so you lose (X) with a score of 1 + 0 = 1.\n",
    "In the third round, you will defeat your opponent's Scissors with Rock for a score of 1 + 6 = 7.\n",
    "Now that you're correctly decrypting the ultra top secret strategy guide, you would get a total score of 12.\n",
    "\n",
    "Following the Elf's instructions for the second column, what would your total score be if everything goes exactly according to your strategy guide?\n",
    "\n"
   ]
  },
  {
   "cell_type": "code",
   "execution_count": 27,
   "id": "359dd8a7-4654-4b42-96a6-13633ae99160",
   "metadata": {},
   "outputs": [
    {
     "name": "stdout",
     "output_type": "stream",
     "text": [
      "11998\n"
     ]
    }
   ],
   "source": [
    "guide = []\n",
    "state_win = [[\"A\", \"Y\"], [\"B\", \"Z\"], [\"C\", \"X\"]]\n",
    "state_lose = [[\"A\", \"Z\"], [\"B\", \"X\"], [\"C\", \"Y\"]]\n",
    "state_draw = [[\"A\", \"X\"], [\"B\", \"Y\"], [\"C\", \"Z\"]]\n",
    "score_shape = {\"X\": 1, \"Y\": 2, \"Z\": 3}\n",
    "score_game = {\"A Y\": 6, \n",
    "              \"B Z\": 6,\n",
    "              \"C X\": 6,\n",
    "              \"A Z\": 0,\n",
    "              \"B X\": 0, \n",
    "              \"C Y\": 0,\n",
    "              \"A X\": 3, \n",
    "              \"B Y\": 3, \n",
    "              \"C Z\": 3} \n",
    "score_part2 = {\"X\": 0, \"Y\": 3, \"Z\": 6}\n",
    "guide_play = {\"A Y\": \"X\", \n",
    "              \"B Z\": \"Z\",\n",
    "              \"C X\": \"Y\",\n",
    "              \"A Z\": \"Y\",\n",
    "              \"B X\": \"X\", \n",
    "              \"C Y\": \"Z\",\n",
    "              \"A X\": \"Z\", \n",
    "              \"B Y\": \"Y\", \n",
    "              \"C Z\": \"X\"}\n",
    "              \n",
    "\n",
    "total_score = 0\n",
    "with open(\"day2-input.txt\", \"r\") as infile:\n",
    "    for line in infile:\n",
    "        game = line.strip()\n",
    "        total_score += score_shape[guide_play[game]] + score_part2[game.split(\" \")[1]]\n",
    "\n",
    "print(total_score)\n",
    "\n"
   ]
  }
 ],
 "metadata": {
  "kernelspec": {
   "display_name": "venv39",
   "language": "python",
   "name": "venv39"
  },
  "language_info": {
   "codemirror_mode": {
    "name": "ipython",
    "version": 3
   },
   "file_extension": ".py",
   "mimetype": "text/x-python",
   "name": "python",
   "nbconvert_exporter": "python",
   "pygments_lexer": "ipython3",
   "version": "3.9.13"
  }
 },
 "nbformat": 4,
 "nbformat_minor": 5
}
