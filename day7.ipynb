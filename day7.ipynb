{
 "cells": [
  {
   "cell_type": "markdown",
   "id": "fcf9cc63-a6a6-4ba6-ad2e-ddd52551ae3a",
   "metadata": {},
   "source": [
    "# --- Day 7: No Space Left On Device ---\n",
    "\n"
   ]
  },
  {
   "cell_type": "code",
   "execution_count": 6,
   "id": "30b769ef-3758-408b-852e-4c60eec54b9a",
   "metadata": {},
   "outputs": [],
   "source": [
    "# Load data\n",
    "filename = \"day7-example.txt\"\n",
    "with open(filename) as infile:\n",
    "    terminal_output = [line.strip() for line in infile]\n",
    "    "
   ]
  },
  {
   "cell_type": "code",
   "execution_count": 20,
   "id": "a54932f1-e2fb-493b-ad48-d2812b052fc0",
   "metadata": {},
   "outputs": [],
   "source": [
    "class Tree(object):\n",
    "    def __init__(self, name='/', children=None, files=None):\n",
    "        self.name = name\n",
    "        self.children = []\n",
    "        self.files = []\n",
    "        if children is not None:\n",
    "            for child in children:\n",
    "                self.add_child(child)\n",
    "        if files is not None:\n",
    "            for file in files:\n",
    "                self.add_file(file)     \n",
    "                \n",
    "    def __repr__(self):\n",
    "        return self.name\n",
    "    \n",
    "    def add_child(self, node):\n",
    "        assert isinstance(node, Tree)\n",
    "        self.children.append(node)\n",
    "        \n",
    "    def add_file(self, node):\n",
    "        assert isinstance(node, Tree)\n",
    "        self.files.append(node)        \n"
   ]
  },
  {
   "cell_type": "code",
   "execution_count": 37,
   "id": "17200c2f-b37e-4586-b388-f06724ece171",
   "metadata": {},
   "outputs": [
    {
     "name": "stdout",
     "output_type": "stream",
     "text": [
      "0\n",
      "nodes: 4\n",
      "0\n",
      "nodes: 3\n",
      "0\n",
      "nodes: 2\n",
      "0\n",
      "nodes: 1\n"
     ]
    },
    {
     "data": {
      "text/plain": [
       "['$ cd /',\n",
       " '$ ls',\n",
       " 'dir a',\n",
       " '14848514 b.txt',\n",
       " '8504156 c.dat',\n",
       " 'dir d',\n",
       " '$ cd a',\n",
       " '$ ls',\n",
       " 'dir e',\n",
       " '29116 f',\n",
       " '2557 g',\n",
       " '62596 h.lst',\n",
       " '$ cd e',\n",
       " '$ ls',\n",
       " '584 i',\n",
       " '$ cd ..',\n",
       " '$ cd ..',\n",
       " '$ cd d',\n",
       " '$ ls',\n",
       " '4060174 j',\n",
       " '8033020 d.log',\n",
       " '5626152 d.ext',\n",
       " '7214296 k']"
      ]
     },
     "metadata": {},
     "output_type": "display_data"
    }
   ],
   "source": [
    "def traverse_filesystem(terminal_data):\n",
    "    # Sketch of how to solve it...\n",
    "    # \n",
    "    # Parse terminal data into a filesystem tree\n",
    "    #\n",
    "    # A node is defined by the sublist of terminal data \n",
    "    # starting with a pair of entries\n",
    "    #     [\"$ cd DIRECTORY\", \"$ ls\"] \n",
    "    # ending with the corresponding \"$ cd ..\" or end of \n",
    "    # the list (if there are no remaining commands)\n",
    "    #\n",
    "    # This means we know the number of nodes - it is the \n",
    "    # number of occurrences of \"$ ls\" in the terminal data\n",
    "    #\n",
    "    \n",
    "    num_nodes = len([x for x in terminal_data if x == \"$ ls\"])\n",
    "    \n",
    "    while num_nodes > 0:\n",
    "        \n",
    "        # Find first occurrence of \"$ cd DIRECTORY\"\n",
    "        index_first_cd = terminal_data.index([x for x in terminal_data if x.startswith(\"$ cd\") and x != \"$ cd ..\"][0])\n",
    "        \n",
    "        # Check if there are still \"$ cd ..\" remaining\n",
    "        # if we are not in root\n",
    "        if \"$ cd ..\" in terminal_data:\n",
    "        \n",
    "        if terminal_data[index_end].startswith(\"$\"):\n",
    "            # Last line is a command\n",
    "            \n",
    "            \n",
    "        print(index_first_cd)\n",
    "        \n",
    "        print(f\"nodes: {num_nodes}\")\n",
    "        \n",
    "        \n",
    "        num_nodes -= 1\n",
    "    \n",
    "    display(terminal_data)\n",
    "\n",
    "traverse_filesystem(terminal_output.copy())"
   ]
  },
  {
   "cell_type": "code",
   "execution_count": 39,
   "id": "05c862b4-cd54-46da-b629-6f8710486689",
   "metadata": {},
   "outputs": [
    {
     "data": {
      "text/plain": [
       "'7214296 k'"
      ]
     },
     "execution_count": 39,
     "metadata": {},
     "output_type": "execute_result"
    }
   ],
   "source": [
    "terminal_output[-1]"
   ]
  },
  {
   "cell_type": "code",
   "execution_count": null,
   "id": "60f66f9d-2584-4cc0-b767-6aa10417e032",
   "metadata": {},
   "outputs": [],
   "source": [
    "# last_root    = start_path\n",
    "# current_root = start_path\n",
    "# found_path   = None\n",
    "# while found_path is None and current_root:\n",
    "#     pruned = False\n",
    "#     for root, dirs, files in os.walk(current_root):\n",
    "#         if not pruned:\n",
    "#            try:\n",
    "#               # Remove the part of the tree we already searched\n",
    "#               del dirs[dirs.index(os.path.basename(last_root))]\n",
    "#               pruned = True\n",
    "#            except ValueError:\n",
    "#               pass\n",
    "#         if searching_for in files:\n",
    "#            # found the file, stop\n",
    "#            found_path = os.path.join(root, searching_for)\n",
    "#            break\n",
    "#      # Otherwise, pop up a level, search again\n",
    "#      last_root    = current_root\n",
    "#      current_root = os.path.dirname(last_root)"
   ]
  }
 ],
 "metadata": {
  "kernelspec": {
   "display_name": "venv39",
   "language": "python",
   "name": "venv39"
  },
  "language_info": {
   "codemirror_mode": {
    "name": "ipython",
    "version": 3
   },
   "file_extension": ".py",
   "mimetype": "text/x-python",
   "name": "python",
   "nbconvert_exporter": "python",
   "pygments_lexer": "ipython3",
   "version": "3.9.13"
  }
 },
 "nbformat": 4,
 "nbformat_minor": 5
}
