{
 "cells": [
  {
   "cell_type": "markdown",
   "id": "fcf9cc63-a6a6-4ba6-ad2e-ddd52551ae3a",
   "metadata": {},
   "source": [
    "# --- Day 7: No Space Left On Device ---\n",
    "\n"
   ]
  },
  {
   "cell_type": "code",
   "execution_count": 134,
   "id": "30b769ef-3758-408b-852e-4c60eec54b9a",
   "metadata": {},
   "outputs": [],
   "source": [
    "# Load data\n",
    "filename = \"day7-example.txt\"\n",
    "with open(filename) as infile:\n",
    "    terminal_output = [line.strip() for line in infile]\n",
    "    "
   ]
  },
  {
   "cell_type": "code",
   "execution_count": 148,
   "id": "17200c2f-b37e-4586-b388-f06724ece171",
   "metadata": {},
   "outputs": [
    {
     "name": "stdout",
     "output_type": "stream",
     "text": [
      "['$ cd /', '$ ls', 'dir a', '14848514 b.txt', '8504156 c.dat', 'dir d', '$ cd a', '$ ls', 'dir e', '29116 f', '2557 g', '62596 h.lst', '$ cd e', '$ ls', '584 i', '$ cd ..', '$ cd ..', '$ cd d', '$ ls', '4060174 j', '8033020 d.log', '5626152 d.ext', '7214296 k']\n",
      "['dir a', '14848514 b.txt', '8504156 c.dat', 'dir d']\n",
      "directory: /\n",
      "files: ['14848514 b.txt', '8504156 c.dat']\n",
      "subdirs: ['dir a', 'dir d']\n",
      "['$ cd a', '$ ls', 'dir e', '29116 f', '2557 g', '62596 h.lst', '$ cd e', '$ ls', '584 i', '$ cd ..', '$ cd ..', '$ cd d', '$ ls', '4060174 j', '8033020 d.log', '5626152 d.ext', '7214296 k']\n",
      "['dir e', '29116 f', '2557 g', '62596 h.lst']\n",
      "directory: a\n",
      "files: ['29116 f', '2557 g', '62596 h.lst']\n",
      "subdirs: ['dir e']\n",
      "['$ cd e', '$ ls', '584 i', '$ cd ..', '$ cd ..', '$ cd d', '$ ls', '4060174 j', '8033020 d.log', '5626152 d.ext', '7214296 k']\n",
      "['584 i']\n",
      "directory: e\n",
      "files: ['584 i']\n",
      "subdirs: []\n",
      "['$ ls', '4060174 j', '8033020 d.log', '5626152 d.ext', '7214296 k']\n",
      "['8033020 d.log', '5626152 d.ext', '7214296 k']\n",
      "directory: d\n",
      "files: ['8033020 d.log', '5626152 d.ext', '7214296 k']\n",
      "subdirs: []\n",
      "/\n",
      "[{'b.txt': 14848514}, {'c.dat': 8504156}]\n",
      "23352670\n"
     ]
    }
   ],
   "source": [
    "class Tree(object):\n",
    "    def __init__(self, name='/', children=None, files=None):\n",
    "        self.name = name\n",
    "        self.children = []\n",
    "        self.files = []\n",
    "        self.size_files = 0\n",
    "        self.size_subdirs = 0\n",
    "        \n",
    "        if children is not None:\n",
    "            for child in children:\n",
    "                self.add_child(child)\n",
    "                \n",
    "        if files is not None:\n",
    "            for file in files:\n",
    "                self.add_file(file)     \n",
    "                \n",
    "    def __repr__(self):\n",
    "        return self.name\n",
    "    \n",
    "    def add_child(self, node):\n",
    "        assert isinstance(node, Tree)\n",
    "        self.children.append(node)\n",
    "        \n",
    "    def add_file(self, file):\n",
    "        self.files.append(file)        \n",
    "        self.size_files += file.get(list(file.keys())[0])\n",
    "\n",
    "\n",
    "def traverse_filesystem(terminal_data):\n",
    "    # Sketch of how to solve it...\n",
    "    # \n",
    "    # Parse terminal data into a filesystem tree\n",
    "    #\n",
    "    # A node is defined by the sublist of terminal data \n",
    "    # starting with a pair of entries\n",
    "    #     [\"$ cd DIRECTORY\", \"$ ls\"] \n",
    "    # ending with the corresponding \"$ cd ..\" or end of \n",
    "    # the list (if there are no remaining commands)\n",
    "    #\n",
    "    # This means we know the number of nodes - it is the \n",
    "    # number of occurrences of \"$ ls\" in the terminal data\n",
    "    \n",
    "        \n",
    "    file_tree = Tree()\n",
    "\n",
    "    def process_node(file_tree, terminal_data):\n",
    "        if len(terminal_data) > 0:\n",
    "            \n",
    "            print(terminal_data)\n",
    "            \n",
    "            # Stuff that happens when we're processing a node ...\n",
    "            # Find first occurrence of \"$ cd DIRECTORY\" followed by \"$ ls\"\n",
    "            indices_first_cd = [i for i in range(0, len(terminal_data)-1) if terminal_data[i] == f\"$ cd {file_tree.name}\" and terminal_data[i+1] == \"$ ls\"]\n",
    "            index_first_cd = min(indices_first_cd) if len(indices_first_cd) > 0 else 0\n",
    "            indices_next_command = [i for i in range(index_first_cd+2, len(terminal_data)-1) if terminal_data[i].startswith(\"$ \")]            \n",
    "            index_next_command = min(indices_next_command) if len(indices_next_command) > 0 else len(terminal_data)\n",
    "\n",
    "            node_listing = terminal_data[index_first_cd+2:index_next_command].copy()\n",
    "            print(node_listing)\n",
    "            node_files = [x for x in node_listing if not x.startswith(\"dir \")]\n",
    "            node_dirs = [x for x in node_listing if x.startswith(\"dir \")]\n",
    "            \n",
    "            print(f\"directory: {file_tree.name}\")\n",
    "            print(f\"files: {node_files}\")\n",
    "            print(f\"subdirs: {node_dirs}\")\n",
    "            #file_tree = Tree(name = terminal_data[index_first_cd].split(\"cd \")[1])\n",
    "            for file in node_files:\n",
    "                file_tree.add_file({file.split(\" \")[1]: int(file.split(\" \")[0])})\n",
    "                \n",
    "            # if len(node_dirs) == 0:\n",
    "            #     print(\"this time\")\n",
    "            #     del terminal_data[index_first_cd:index_next_command]\n",
    "\n",
    "            for subdir in node_dirs:\n",
    "                subdir_tree, terminal_data = process_node(Tree(name = subdir.split(\"dir \")[1]), terminal_data[index_next_command:])\n",
    "                file_tree.add_child(subdir_tree)\n",
    "\n",
    "\n",
    "        return file_tree, terminal_data\n",
    "\n",
    "    process_node(file_tree, terminal_data)\n",
    "            \n",
    "                \n",
    "    \n",
    "    return file_tree\n",
    "    \n",
    "tree = traverse_filesystem(terminal_output.copy())\n",
    "print(tree.name)\n",
    "print(tree.files)\n",
    "print(tree.size_files)\n"
   ]
  },
  {
   "cell_type": "code",
   "execution_count": 140,
   "id": "0641885d-6016-49d9-8a03-515f073dbd36",
   "metadata": {},
   "outputs": [
    {
     "data": {
      "text/plain": [
       "['$ cd /',\n",
       " '$ ls',\n",
       " 'dir a',\n",
       " '14848514 b.txt',\n",
       " '8504156 c.dat',\n",
       " 'dir d',\n",
       " '$ cd a',\n",
       " '$ ls',\n",
       " 'dir e',\n",
       " '29116 f',\n",
       " '2557 g',\n",
       " '62596 h.lst',\n",
       " '$ cd e',\n",
       " '$ ls',\n",
       " '584 i',\n",
       " '$ cd ..',\n",
       " '$ cd ..',\n",
       " '$ cd d',\n",
       " '$ ls',\n",
       " '4060174 j',\n",
       " '8033020 d.log',\n",
       " '5626152 d.ext',\n",
       " '7214296 k']"
      ]
     },
     "execution_count": 140,
     "metadata": {},
     "output_type": "execute_result"
    }
   ],
   "source": [
    "terminal_output"
   ]
  },
  {
   "cell_type": "code",
   "execution_count": null,
   "id": "1e515b56-4eae-4237-a757-06aa92fb7448",
   "metadata": {},
   "outputs": [],
   "source": []
  }
 ],
 "metadata": {
  "kernelspec": {
   "display_name": "venv39",
   "language": "python",
   "name": "venv39"
  },
  "language_info": {
   "codemirror_mode": {
    "name": "ipython",
    "version": 3
   },
   "file_extension": ".py",
   "mimetype": "text/x-python",
   "name": "python",
   "nbconvert_exporter": "python",
   "pygments_lexer": "ipython3",
   "version": "3.9.13"
  }
 },
 "nbformat": 4,
 "nbformat_minor": 5
}
