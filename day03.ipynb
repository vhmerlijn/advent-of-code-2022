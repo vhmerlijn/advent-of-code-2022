{
 "cells": [
  {
   "cell_type": "markdown",
   "id": "6d8582d1-a17f-4522-9b73-405815d5e395",
   "metadata": {},
   "source": [
    "# --- Day 3: Rucksack Reorganization ---\n"
   ]
  },
  {
   "cell_type": "code",
   "execution_count": 2,
   "id": "ecd91f11-680e-4d02-b91f-cdad7dd0d437",
   "metadata": {},
   "outputs": [
    {
     "name": "stdout",
     "output_type": "stream",
     "text": [
      "8349\n"
     ]
    }
   ],
   "source": [
    "import string\n",
    "# Load rucksack data\n",
    "with open(\"inputs/day3-input.txt\") as infile:\n",
    "    rucksacks = [line.strip() for line in infile]\n",
    "\n",
    "def find_shared_items(rucksack):\n",
    "    compartment1 = rucksack[:len(rucksack)//2]\n",
    "    compartment2 = rucksack[len(rucksack)//2:]\n",
    "    return list(set(compartment1).intersection(set(compartment2)))[0]\n",
    "\n",
    "map_priorities = dict(zip(string.ascii_letters, range(1, 53)))\n",
    "\n",
    "sum_of_priorities = 0\n",
    "for this_rucksack in rucksacks:\n",
    "    sum_of_priorities += map_priorities[find_shared_items(this_rucksack)]\n",
    "    \n",
    "print(sum_of_priorities)"
   ]
  },
  {
   "cell_type": "markdown",
   "id": "9f324ee1-49cc-4028-a761-b335e0af2de7",
   "metadata": {},
   "source": [
    "# --- Part Two ---"
   ]
  },
  {
   "cell_type": "code",
   "execution_count": 3,
   "id": "60b4dd5f-2852-4375-815b-c05a1f30f38e",
   "metadata": {},
   "outputs": [
    {
     "name": "stdout",
     "output_type": "stream",
     "text": [
      "2681\n"
     ]
    }
   ],
   "source": [
    "def find_group_badge(group_rucksacks):\n",
    "    return list(set(group_rucksacks[0]).intersection(set(group_rucksacks[1]), set(group_rucksacks[2])))[0]\n",
    "\n",
    "sum_of_priorities = 0\n",
    "for x in range(0, len(rucksacks), 3):\n",
    "    sum_of_priorities += map_priorities[find_group_badge(rucksacks[x:(x+3)])]\n",
    "\n",
    "print(sum_of_priorities)\n"
   ]
  }
 ],
 "metadata": {
  "kernelspec": {
   "display_name": "venv39",
   "language": "python",
   "name": "venv39"
  },
  "language_info": {
   "codemirror_mode": {
    "name": "ipython",
    "version": 3
   },
   "file_extension": ".py",
   "mimetype": "text/x-python",
   "name": "python",
   "nbconvert_exporter": "python",
   "pygments_lexer": "ipython3",
   "version": "3.9.13"
  }
 },
 "nbformat": 4,
 "nbformat_minor": 5
}
