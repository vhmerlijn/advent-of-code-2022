{
 "cells": [
  {
   "cell_type": "markdown",
   "id": "a8fcbdba-8989-4198-a0e4-696b9cf392ce",
   "metadata": {},
   "source": [
    "# --- Day 6: Tuning Trouble ---\n",
    "\n",
    "> Your subroutine needs to identify the first position where the four most recently received characters were all different. Specifically, it needs to report the number of characters from the beginning of the buffer to the end of the first such four-character marker."
   ]
  },
  {
   "cell_type": "code",
   "execution_count": 1,
   "id": "abc9b26b-4d55-4907-92f7-fd555eca4583",
   "metadata": {},
   "outputs": [
    {
     "data": {
      "text/plain": [
       "1647"
      ]
     },
     "execution_count": 1,
     "metadata": {},
     "output_type": "execute_result"
    }
   ],
   "source": [
    "filename = \"inputs/day6-input.txt\"\n",
    "with open(filename) as infile:\n",
    "    datastream = [line.strip() for line in infile]\n",
    "    \n",
    "def find_first_marker(dstream):\n",
    "    for x in range(0, len(dstream)-3):\n",
    "        if len(set(dstream[x:x+4])) == 4:\n",
    "            return x+4\n",
    "    \n",
    "find_first_marker(datastream[0])"
   ]
  },
  {
   "cell_type": "markdown",
   "id": "84951ad5-ef9e-4965-ba9a-12e685747667",
   "metadata": {},
   "source": [
    "# --- Part Two ---\n",
    "\n"
   ]
  },
  {
   "cell_type": "code",
   "execution_count": 2,
   "id": "f4e935eb-f2af-4953-95bd-d0d34f2d576a",
   "metadata": {},
   "outputs": [
    {
     "data": {
      "text/plain": [
       "2447"
      ]
     },
     "execution_count": 2,
     "metadata": {},
     "output_type": "execute_result"
    }
   ],
   "source": [
    "def find_first_message_marker(dstream):\n",
    "    for x in range(0, len(dstream)-3):\n",
    "        if len(set(dstream[x:x+14])) == 14:\n",
    "            return x+14\n",
    "    \n",
    "find_first_message_marker(datastream[0])"
   ]
  }
 ],
 "metadata": {
  "kernelspec": {
   "display_name": "venv39",
   "language": "python",
   "name": "venv39"
  },
  "language_info": {
   "codemirror_mode": {
    "name": "ipython",
    "version": 3
   },
   "file_extension": ".py",
   "mimetype": "text/x-python",
   "name": "python",
   "nbconvert_exporter": "python",
   "pygments_lexer": "ipython3",
   "version": "3.9.13"
  }
 },
 "nbformat": 4,
 "nbformat_minor": 5
}
